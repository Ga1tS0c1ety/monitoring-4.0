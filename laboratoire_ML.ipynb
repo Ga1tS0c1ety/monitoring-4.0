{
 "cells": [
  {
   "cell_type": "code",
   "execution_count": 1,
   "metadata": {},
   "outputs": [
    {
     "name": "stdout",
     "output_type": "stream",
     "text": [
      "Requirement already satisfied: pandas in ./mon_env/lib/python3.11/site-packages (2.2.3)\n",
      "Requirement already satisfied: numpy in ./mon_env/lib/python3.11/site-packages (2.2.4)\n",
      "Requirement already satisfied: matplotlib in ./mon_env/lib/python3.11/site-packages (3.10.1)\n",
      "Requirement already satisfied: seaborn in ./mon_env/lib/python3.11/site-packages (0.13.2)\n",
      "Requirement already satisfied: ipython in ./mon_env/lib/python3.11/site-packages (9.1.0)\n",
      "Requirement already satisfied: scikit-learn in ./mon_env/lib/python3.11/site-packages (1.6.1)\n",
      "Requirement already satisfied: python-dateutil>=2.8.2 in ./mon_env/lib/python3.11/site-packages (from pandas) (2.9.0.post0)\n",
      "Requirement already satisfied: pytz>=2020.1 in ./mon_env/lib/python3.11/site-packages (from pandas) (2025.2)\n",
      "Requirement already satisfied: tzdata>=2022.7 in ./mon_env/lib/python3.11/site-packages (from pandas) (2025.2)\n",
      "Requirement already satisfied: contourpy>=1.0.1 in ./mon_env/lib/python3.11/site-packages (from matplotlib) (1.3.1)\n",
      "Requirement already satisfied: cycler>=0.10 in ./mon_env/lib/python3.11/site-packages (from matplotlib) (0.12.1)\n",
      "Requirement already satisfied: fonttools>=4.22.0 in ./mon_env/lib/python3.11/site-packages (from matplotlib) (4.57.0)\n",
      "Requirement already satisfied: kiwisolver>=1.3.1 in ./mon_env/lib/python3.11/site-packages (from matplotlib) (1.4.8)\n",
      "Requirement already satisfied: packaging>=20.0 in ./mon_env/lib/python3.11/site-packages (from matplotlib) (24.2)\n",
      "Requirement already satisfied: pillow>=8 in ./mon_env/lib/python3.11/site-packages (from matplotlib) (11.1.0)\n",
      "Requirement already satisfied: pyparsing>=2.3.1 in ./mon_env/lib/python3.11/site-packages (from matplotlib) (3.2.3)\n",
      "Requirement already satisfied: decorator in ./mon_env/lib/python3.11/site-packages (from ipython) (5.2.1)\n",
      "Requirement already satisfied: ipython-pygments-lexers in ./mon_env/lib/python3.11/site-packages (from ipython) (1.1.1)\n",
      "Requirement already satisfied: jedi>=0.16 in ./mon_env/lib/python3.11/site-packages (from ipython) (0.19.2)\n",
      "Requirement already satisfied: matplotlib-inline in ./mon_env/lib/python3.11/site-packages (from ipython) (0.1.7)\n",
      "Requirement already satisfied: pexpect>4.3 in ./mon_env/lib/python3.11/site-packages (from ipython) (4.9.0)\n",
      "Requirement already satisfied: prompt_toolkit<3.1.0,>=3.0.41 in ./mon_env/lib/python3.11/site-packages (from ipython) (3.0.50)\n",
      "Requirement already satisfied: pygments>=2.4.0 in ./mon_env/lib/python3.11/site-packages (from ipython) (2.19.1)\n",
      "Requirement already satisfied: stack_data in ./mon_env/lib/python3.11/site-packages (from ipython) (0.6.3)\n",
      "Requirement already satisfied: traitlets>=5.13.0 in ./mon_env/lib/python3.11/site-packages (from ipython) (5.14.3)\n",
      "Requirement already satisfied: typing_extensions>=4.6 in ./mon_env/lib/python3.11/site-packages (from ipython) (4.13.1)\n",
      "Requirement already satisfied: scipy>=1.6.0 in ./mon_env/lib/python3.11/site-packages (from scikit-learn) (1.15.2)\n",
      "Requirement already satisfied: joblib>=1.2.0 in ./mon_env/lib/python3.11/site-packages (from scikit-learn) (1.4.2)\n",
      "Requirement already satisfied: threadpoolctl>=3.1.0 in ./mon_env/lib/python3.11/site-packages (from scikit-learn) (3.6.0)\n",
      "Requirement already satisfied: parso<0.9.0,>=0.8.4 in ./mon_env/lib/python3.11/site-packages (from jedi>=0.16->ipython) (0.8.4)\n",
      "Requirement already satisfied: ptyprocess>=0.5 in ./mon_env/lib/python3.11/site-packages (from pexpect>4.3->ipython) (0.7.0)\n",
      "Requirement already satisfied: wcwidth in ./mon_env/lib/python3.11/site-packages (from prompt_toolkit<3.1.0,>=3.0.41->ipython) (0.2.13)\n",
      "Requirement already satisfied: six>=1.5 in ./mon_env/lib/python3.11/site-packages (from python-dateutil>=2.8.2->pandas) (1.17.0)\n",
      "Requirement already satisfied: executing>=1.2.0 in ./mon_env/lib/python3.11/site-packages (from stack_data->ipython) (2.2.0)\n",
      "Requirement already satisfied: asttokens>=2.1.0 in ./mon_env/lib/python3.11/site-packages (from stack_data->ipython) (3.0.0)\n",
      "Requirement already satisfied: pure-eval in ./mon_env/lib/python3.11/site-packages (from stack_data->ipython) (0.2.3)\n",
      "Note: you may need to restart the kernel to use updated packages.\n"
     ]
    }
   ],
   "source": [
    "pip install pandas numpy matplotlib seaborn ipython scikit-learn"
   ]
  },
  {
   "cell_type": "code",
   "execution_count": 2,
   "metadata": {},
   "outputs": [],
   "source": [
    "import pandas as pd\n",
    "import numpy as np\n",
    "import matplotlib.pyplot as plt\n",
    "import seaborn as sns\n",
    "from IPython.display import display, Markdown\n",
    "from sklearn.model_selection import train_test_split\n",
    "from sklearn.preprocessing import StandardScaler\n",
    "from sklearn.pipeline import Pipeline\n",
    "from sklearn.ensemble import RandomForestClassifier\n",
    "from sklearn.metrics import classification_report, confusion_matrix"
   ]
  },
  {
   "cell_type": "code",
   "execution_count": 3,
   "metadata": {},
   "outputs": [
    {
     "data": {
      "text/markdown": [
       "### Dataset chargé avec succès"
      ],
      "text/plain": [
       "<IPython.core.display.Markdown object>"
      ]
     },
     "metadata": {},
     "output_type": "display_data"
    },
    {
     "data": {
      "text/markdown": [
       "Nombre de lignes : 2452"
      ],
      "text/plain": [
       "<IPython.core.display.Markdown object>"
      ]
     },
     "metadata": {},
     "output_type": "display_data"
    }
   ],
   "source": [
    "# Charger le fichier CSV\n",
    "df = pd.read_csv('signal_features_dataset.csv')\n",
    "\n",
    "display(Markdown(\"### Dataset chargé avec succès\"))\n",
    "display(Markdown(f\"Nombre de lignes : {len(df)}\"))"
   ]
  },
  {
   "cell_type": "code",
   "execution_count": 4,
   "metadata": {},
   "outputs": [
    {
     "data": {
      "text/markdown": [
       "### Informations sur le dataset :"
      ],
      "text/plain": [
       "<IPython.core.display.Markdown object>"
      ]
     },
     "metadata": {},
     "output_type": "display_data"
    },
    {
     "data": {
      "text/html": [
       "<div>\n",
       "<style scoped>\n",
       "    .dataframe tbody tr th:only-of-type {\n",
       "        vertical-align: middle;\n",
       "    }\n",
       "\n",
       "    .dataframe tbody tr th {\n",
       "        vertical-align: top;\n",
       "    }\n",
       "\n",
       "    .dataframe thead th {\n",
       "        text-align: right;\n",
       "    }\n",
       "</style>\n",
       "<table border=\"1\" class=\"dataframe\">\n",
       "  <thead>\n",
       "    <tr style=\"text-align: right;\">\n",
       "      <th></th>\n",
       "      <th>Column</th>\n",
       "      <th>Type</th>\n",
       "      <th>Non-Null Count</th>\n",
       "    </tr>\n",
       "  </thead>\n",
       "  <tbody>\n",
       "    <tr>\n",
       "      <th>Mean</th>\n",
       "      <td>Mean</td>\n",
       "      <td>float64</td>\n",
       "      <td>2452</td>\n",
       "    </tr>\n",
       "    <tr>\n",
       "      <th>Std</th>\n",
       "      <td>Std</td>\n",
       "      <td>float64</td>\n",
       "      <td>2452</td>\n",
       "    </tr>\n",
       "    <tr>\n",
       "      <th>Max</th>\n",
       "      <td>Max</td>\n",
       "      <td>float64</td>\n",
       "      <td>2452</td>\n",
       "    </tr>\n",
       "    <tr>\n",
       "      <th>Min</th>\n",
       "      <td>Min</td>\n",
       "      <td>float64</td>\n",
       "      <td>2452</td>\n",
       "    </tr>\n",
       "    <tr>\n",
       "      <th>Kurtosis</th>\n",
       "      <td>Kurtosis</td>\n",
       "      <td>float64</td>\n",
       "      <td>2452</td>\n",
       "    </tr>\n",
       "    <tr>\n",
       "      <th>Skew</th>\n",
       "      <td>Skew</td>\n",
       "      <td>float64</td>\n",
       "      <td>2452</td>\n",
       "    </tr>\n",
       "    <tr>\n",
       "      <th>Dominant Frequency</th>\n",
       "      <td>Dominant Frequency</td>\n",
       "      <td>float64</td>\n",
       "      <td>2452</td>\n",
       "    </tr>\n",
       "    <tr>\n",
       "      <th>Dominant Amplitude</th>\n",
       "      <td>Dominant Amplitude</td>\n",
       "      <td>float64</td>\n",
       "      <td>2452</td>\n",
       "    </tr>\n",
       "    <tr>\n",
       "      <th>Spectral Energy</th>\n",
       "      <td>Spectral Energy</td>\n",
       "      <td>float64</td>\n",
       "      <td>2452</td>\n",
       "    </tr>\n",
       "    <tr>\n",
       "      <th>Envelope Mean</th>\n",
       "      <td>Envelope Mean</td>\n",
       "      <td>float64</td>\n",
       "      <td>2452</td>\n",
       "    </tr>\n",
       "    <tr>\n",
       "      <th>Envelope Std</th>\n",
       "      <td>Envelope Std</td>\n",
       "      <td>float64</td>\n",
       "      <td>2452</td>\n",
       "    </tr>\n",
       "    <tr>\n",
       "      <th>Envelope Dominant Frequency</th>\n",
       "      <td>Envelope Dominant Frequency</td>\n",
       "      <td>float64</td>\n",
       "      <td>2452</td>\n",
       "    </tr>\n",
       "    <tr>\n",
       "      <th>Envelope Dominant Amplitude</th>\n",
       "      <td>Envelope Dominant Amplitude</td>\n",
       "      <td>float64</td>\n",
       "      <td>2452</td>\n",
       "    </tr>\n",
       "    <tr>\n",
       "      <th>Label</th>\n",
       "      <td>Label</td>\n",
       "      <td>int64</td>\n",
       "      <td>2452</td>\n",
       "    </tr>\n",
       "    <tr>\n",
       "      <th>Signal Name</th>\n",
       "      <td>Signal Name</td>\n",
       "      <td>object</td>\n",
       "      <td>2452</td>\n",
       "    </tr>\n",
       "  </tbody>\n",
       "</table>\n",
       "</div>"
      ],
      "text/plain": [
       "                                                  Column     Type  \\\n",
       "Mean                                                Mean  float64   \n",
       "Std                                                  Std  float64   \n",
       "Max                                                  Max  float64   \n",
       "Min                                                  Min  float64   \n",
       "Kurtosis                                        Kurtosis  float64   \n",
       "Skew                                                Skew  float64   \n",
       "Dominant Frequency                    Dominant Frequency  float64   \n",
       "Dominant Amplitude                    Dominant Amplitude  float64   \n",
       "Spectral Energy                          Spectral Energy  float64   \n",
       "Envelope Mean                              Envelope Mean  float64   \n",
       "Envelope Std                                Envelope Std  float64   \n",
       "Envelope Dominant Frequency  Envelope Dominant Frequency  float64   \n",
       "Envelope Dominant Amplitude  Envelope Dominant Amplitude  float64   \n",
       "Label                                              Label    int64   \n",
       "Signal Name                                  Signal Name   object   \n",
       "\n",
       "                             Non-Null Count  \n",
       "Mean                                   2452  \n",
       "Std                                    2452  \n",
       "Max                                    2452  \n",
       "Min                                    2452  \n",
       "Kurtosis                               2452  \n",
       "Skew                                   2452  \n",
       "Dominant Frequency                     2452  \n",
       "Dominant Amplitude                     2452  \n",
       "Spectral Energy                        2452  \n",
       "Envelope Mean                          2452  \n",
       "Envelope Std                           2452  \n",
       "Envelope Dominant Frequency            2452  \n",
       "Envelope Dominant Amplitude            2452  \n",
       "Label                                  2452  \n",
       "Signal Name                            2452  "
      ]
     },
     "metadata": {},
     "output_type": "display_data"
    },
    {
     "data": {
      "text/markdown": [
       "### Statistiques descriptives :"
      ],
      "text/plain": [
       "<IPython.core.display.Markdown object>"
      ]
     },
     "metadata": {},
     "output_type": "display_data"
    },
    {
     "data": {
      "text/html": [
       "<div>\n",
       "<style scoped>\n",
       "    .dataframe tbody tr th:only-of-type {\n",
       "        vertical-align: middle;\n",
       "    }\n",
       "\n",
       "    .dataframe tbody tr th {\n",
       "        vertical-align: top;\n",
       "    }\n",
       "\n",
       "    .dataframe thead th {\n",
       "        text-align: right;\n",
       "    }\n",
       "</style>\n",
       "<table border=\"1\" class=\"dataframe\">\n",
       "  <thead>\n",
       "    <tr style=\"text-align: right;\">\n",
       "      <th></th>\n",
       "      <th>Mean</th>\n",
       "      <th>Std</th>\n",
       "      <th>Max</th>\n",
       "      <th>Min</th>\n",
       "      <th>Kurtosis</th>\n",
       "      <th>Skew</th>\n",
       "      <th>Dominant Frequency</th>\n",
       "      <th>Dominant Amplitude</th>\n",
       "      <th>Spectral Energy</th>\n",
       "      <th>Envelope Mean</th>\n",
       "      <th>Envelope Std</th>\n",
       "      <th>Envelope Dominant Frequency</th>\n",
       "      <th>Envelope Dominant Amplitude</th>\n",
       "      <th>Label</th>\n",
       "    </tr>\n",
       "  </thead>\n",
       "  <tbody>\n",
       "    <tr>\n",
       "      <th>count</th>\n",
       "      <td>2452.000000</td>\n",
       "      <td>2452.000000</td>\n",
       "      <td>2452.000000</td>\n",
       "      <td>2452.000000</td>\n",
       "      <td>2452.000000</td>\n",
       "      <td>2452.000000</td>\n",
       "      <td>2452.000000</td>\n",
       "      <td>2452.000000</td>\n",
       "      <td>2.452000e+03</td>\n",
       "      <td>2452.000000</td>\n",
       "      <td>2452.000000</td>\n",
       "      <td>2452.0</td>\n",
       "      <td>2452.000000</td>\n",
       "      <td>2452.000000</td>\n",
       "    </tr>\n",
       "    <tr>\n",
       "      <th>mean</th>\n",
       "      <td>0.018401</td>\n",
       "      <td>0.207349</td>\n",
       "      <td>2.507323</td>\n",
       "      <td>-2.407303</td>\n",
       "      <td>18.074378</td>\n",
       "      <td>0.028804</td>\n",
       "      <td>6682.083197</td>\n",
       "      <td>1257.152018</td>\n",
       "      <td>1.924211e+07</td>\n",
       "      <td>0.206028</td>\n",
       "      <td>0.195930</td>\n",
       "      <td>0.0</td>\n",
       "      <td>5274.321480</td>\n",
       "      <td>0.458401</td>\n",
       "    </tr>\n",
       "    <tr>\n",
       "      <th>std</th>\n",
       "      <td>0.021847</td>\n",
       "      <td>0.118757</td>\n",
       "      <td>2.622644</td>\n",
       "      <td>2.607864</td>\n",
       "      <td>25.870715</td>\n",
       "      <td>0.277620</td>\n",
       "      <td>5811.591130</td>\n",
       "      <td>1020.833093</td>\n",
       "      <td>1.441972e+07</td>\n",
       "      <td>0.105304</td>\n",
       "      <td>0.151942</td>\n",
       "      <td>0.0</td>\n",
       "      <td>2695.790198</td>\n",
       "      <td>0.498368</td>\n",
       "    </tr>\n",
       "    <tr>\n",
       "      <th>min</th>\n",
       "      <td>-0.003799</td>\n",
       "      <td>0.027759</td>\n",
       "      <td>0.086725</td>\n",
       "      <td>-9.065726</td>\n",
       "      <td>-0.823566</td>\n",
       "      <td>-1.098744</td>\n",
       "      <td>0.000000</td>\n",
       "      <td>219.201803</td>\n",
       "      <td>2.617814e+05</td>\n",
       "      <td>0.034039</td>\n",
       "      <td>0.019915</td>\n",
       "      <td>0.0</td>\n",
       "      <td>871.410187</td>\n",
       "      <td>0.000000</td>\n",
       "    </tr>\n",
       "    <tr>\n",
       "      <th>25%</th>\n",
       "      <td>-0.003661</td>\n",
       "      <td>0.029061</td>\n",
       "      <td>0.110891</td>\n",
       "      <td>-3.664244</td>\n",
       "      <td>-0.792097</td>\n",
       "      <td>-0.125999</td>\n",
       "      <td>453.000000</td>\n",
       "      <td>229.763897</td>\n",
       "      <td>2.857628e+05</td>\n",
       "      <td>0.035615</td>\n",
       "      <td>0.020917</td>\n",
       "      <td>0.0</td>\n",
       "      <td>911.750013</td>\n",
       "      <td>0.000000</td>\n",
       "    </tr>\n",
       "    <tr>\n",
       "      <th>50%</th>\n",
       "      <td>0.013845</td>\n",
       "      <td>0.223252</td>\n",
       "      <td>0.573921</td>\n",
       "      <td>-0.505043</td>\n",
       "      <td>0.300927</td>\n",
       "      <td>-0.006182</td>\n",
       "      <td>11972.000000</td>\n",
       "      <td>963.644565</td>\n",
       "      <td>1.738412e+07</td>\n",
       "      <td>0.256696</td>\n",
       "      <td>0.117836</td>\n",
       "      <td>0.0</td>\n",
       "      <td>6571.417372</td>\n",
       "      <td>0.000000</td>\n",
       "    </tr>\n",
       "    <tr>\n",
       "      <th>75%</th>\n",
       "      <td>0.040658</td>\n",
       "      <td>0.271391</td>\n",
       "      <td>3.976952</td>\n",
       "      <td>-0.130193</td>\n",
       "      <td>19.638894</td>\n",
       "      <td>0.074189</td>\n",
       "      <td>12032.000000</td>\n",
       "      <td>2795.200878</td>\n",
       "      <td>2.521124e+07</td>\n",
       "      <td>0.284692</td>\n",
       "      <td>0.285304</td>\n",
       "      <td>0.0</td>\n",
       "      <td>7288.111012</td>\n",
       "      <td>1.000000</td>\n",
       "    </tr>\n",
       "    <tr>\n",
       "      <th>max</th>\n",
       "      <td>0.049828</td>\n",
       "      <td>0.392832</td>\n",
       "      <td>8.531739</td>\n",
       "      <td>-0.106221</td>\n",
       "      <td>84.596324</td>\n",
       "      <td>1.726174</td>\n",
       "      <td>12032.000000</td>\n",
       "      <td>2947.314450</td>\n",
       "      <td>5.057319e+07</td>\n",
       "      <td>0.299340</td>\n",
       "      <td>0.482382</td>\n",
       "      <td>0.0</td>\n",
       "      <td>7663.098812</td>\n",
       "      <td>1.000000</td>\n",
       "    </tr>\n",
       "  </tbody>\n",
       "</table>\n",
       "</div>"
      ],
      "text/plain": [
       "              Mean          Std          Max          Min     Kurtosis  \\\n",
       "count  2452.000000  2452.000000  2452.000000  2452.000000  2452.000000   \n",
       "mean      0.018401     0.207349     2.507323    -2.407303    18.074378   \n",
       "std       0.021847     0.118757     2.622644     2.607864    25.870715   \n",
       "min      -0.003799     0.027759     0.086725    -9.065726    -0.823566   \n",
       "25%      -0.003661     0.029061     0.110891    -3.664244    -0.792097   \n",
       "50%       0.013845     0.223252     0.573921    -0.505043     0.300927   \n",
       "75%       0.040658     0.271391     3.976952    -0.130193    19.638894   \n",
       "max       0.049828     0.392832     8.531739    -0.106221    84.596324   \n",
       "\n",
       "              Skew  Dominant Frequency  Dominant Amplitude  Spectral Energy  \\\n",
       "count  2452.000000         2452.000000         2452.000000     2.452000e+03   \n",
       "mean      0.028804         6682.083197         1257.152018     1.924211e+07   \n",
       "std       0.277620         5811.591130         1020.833093     1.441972e+07   \n",
       "min      -1.098744            0.000000          219.201803     2.617814e+05   \n",
       "25%      -0.125999          453.000000          229.763897     2.857628e+05   \n",
       "50%      -0.006182        11972.000000          963.644565     1.738412e+07   \n",
       "75%       0.074189        12032.000000         2795.200878     2.521124e+07   \n",
       "max       1.726174        12032.000000         2947.314450     5.057319e+07   \n",
       "\n",
       "       Envelope Mean  Envelope Std  Envelope Dominant Frequency  \\\n",
       "count    2452.000000   2452.000000                       2452.0   \n",
       "mean        0.206028      0.195930                          0.0   \n",
       "std         0.105304      0.151942                          0.0   \n",
       "min         0.034039      0.019915                          0.0   \n",
       "25%         0.035615      0.020917                          0.0   \n",
       "50%         0.256696      0.117836                          0.0   \n",
       "75%         0.284692      0.285304                          0.0   \n",
       "max         0.299340      0.482382                          0.0   \n",
       "\n",
       "       Envelope Dominant Amplitude        Label  \n",
       "count                  2452.000000  2452.000000  \n",
       "mean                   5274.321480     0.458401  \n",
       "std                    2695.790198     0.498368  \n",
       "min                     871.410187     0.000000  \n",
       "25%                     911.750013     0.000000  \n",
       "50%                    6571.417372     0.000000  \n",
       "75%                    7288.111012     1.000000  \n",
       "max                    7663.098812     1.000000  "
      ]
     },
     "metadata": {},
     "output_type": "display_data"
    },
    {
     "data": {
      "text/markdown": [
       "### Valeurs manquantes par colonne :"
      ],
      "text/plain": [
       "<IPython.core.display.Markdown object>"
      ]
     },
     "metadata": {},
     "output_type": "display_data"
    },
    {
     "data": {
      "text/plain": [
       "Mean                           0\n",
       "Std                            0\n",
       "Max                            0\n",
       "Min                            0\n",
       "Kurtosis                       0\n",
       "Skew                           0\n",
       "Dominant Frequency             0\n",
       "Dominant Amplitude             0\n",
       "Spectral Energy                0\n",
       "Envelope Mean                  0\n",
       "Envelope Std                   0\n",
       "Envelope Dominant Frequency    0\n",
       "Envelope Dominant Amplitude    0\n",
       "Label                          0\n",
       "Signal Name                    0\n",
       "dtype: int64"
      ]
     },
     "metadata": {},
     "output_type": "display_data"
    }
   ],
   "source": [
    "# Informations sur le dataset\n",
    "display(Markdown(\"### Informations sur le dataset :\"))\n",
    "# Note : df.info() affiche du texte brut, on contourne avec un résumé\n",
    "df_info = pd.DataFrame({\n",
    "    'Column': df.columns,\n",
    "    'Type': [str(t) for t in df.dtypes],\n",
    "    'Non-Null Count': df.notnull().sum()\n",
    "})\n",
    "display(df_info)\n",
    "\n",
    "# Statistiques descriptives\n",
    "display(Markdown(\"### Statistiques descriptives :\"))\n",
    "display(df.describe())\n",
    "\n",
    "# Vérifier les valeurs manquantes\n",
    "display(Markdown(\"### Valeurs manquantes par colonne :\"))\n",
    "display(df.isnull().sum())"
   ]
  },
  {
   "cell_type": "code",
   "execution_count": 5,
   "metadata": {},
   "outputs": [
    {
     "data": {
      "application/vnd.plotly.v1+json": {
       "config": {
        "plotlyServerURL": "https://plot.ly"
       },
       "data": [
        {
         "colorbar": {
          "title": {
           "text": "Corrélation"
          }
         },
         "colorscale": [
          [
           0,
           "rgb(103,0,31)"
          ],
          [
           0.1,
           "rgb(178,24,43)"
          ],
          [
           0.2,
           "rgb(214,96,77)"
          ],
          [
           0.3,
           "rgb(244,165,130)"
          ],
          [
           0.4,
           "rgb(253,219,199)"
          ],
          [
           0.5,
           "rgb(247,247,247)"
          ],
          [
           0.6,
           "rgb(209,229,240)"
          ],
          [
           0.7,
           "rgb(146,197,222)"
          ],
          [
           0.8,
           "rgb(67,147,195)"
          ],
          [
           0.9,
           "rgb(33,102,172)"
          ],
          [
           1,
           "rgb(5,48,97)"
          ]
         ],
         "text": {
          "bdata": "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",
          "dtype": "f8",
          "shape": "14, 14"
         },
         "textfont": {
          "size": 10
         },
         "texttemplate": "%{text:.2f}",
         "type": "heatmap",
         "x": [
          "Mean",
          "Std",
          "Max",
          "Min",
          "Kurtosis",
          "Skew",
          "Dominant Frequency",
          "Dominant Amplitude",
          "Spectral Energy",
          "Envelope Mean",
          "Envelope Std",
          "Envelope Dominant Frequency",
          "Envelope Dominant Amplitude",
          "Label"
         ],
         "y": [
          "Mean",
          "Std",
          "Max",
          "Min",
          "Kurtosis",
          "Skew",
          "Dominant Frequency",
          "Dominant Amplitude",
          "Spectral Energy",
          "Envelope Mean",
          "Envelope Std",
          "Envelope Dominant Frequency",
          "Envelope Dominant Amplitude",
          "Label"
         ],
         "z": {
          "bdata": "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",
          "dtype": "f8",
          "shape": "14, 14"
         },
         "zmax": 1,
         "zmin": -1
        }
       ],
       "layout": {
        "height": 600,
        "template": {
         "data": {
          "bar": [
           {
            "error_x": {
             "color": "#2a3f5f"
            },
            "error_y": {
             "color": "#2a3f5f"
            },
            "marker": {
             "line": {
              "color": "#E5ECF6",
              "width": 0.5
             },
             "pattern": {
              "fillmode": "overlay",
              "size": 10,
              "solidity": 0.2
             }
            },
            "type": "bar"
           }
          ],
          "barpolar": [
           {
            "marker": {
             "line": {
              "color": "#E5ECF6",
              "width": 0.5
             },
             "pattern": {
              "fillmode": "overlay",
              "size": 10,
              "solidity": 0.2
             }
            },
            "type": "barpolar"
           }
          ],
          "carpet": [
           {
            "aaxis": {
             "endlinecolor": "#2a3f5f",
             "gridcolor": "white",
             "linecolor": "white",
             "minorgridcolor": "white",
             "startlinecolor": "#2a3f5f"
            },
            "baxis": {
             "endlinecolor": "#2a3f5f",
             "gridcolor": "white",
             "linecolor": "white",
             "minorgridcolor": "white",
             "startlinecolor": "#2a3f5f"
            },
            "type": "carpet"
           }
          ],
          "choropleth": [
           {
            "colorbar": {
             "outlinewidth": 0,
             "ticks": ""
            },
            "type": "choropleth"
           }
          ],
          "contour": [
           {
            "colorbar": {
             "outlinewidth": 0,
             "ticks": ""
            },
            "colorscale": [
             [
              0,
              "#0d0887"
             ],
             [
              0.1111111111111111,
              "#46039f"
             ],
             [
              0.2222222222222222,
              "#7201a8"
             ],
             [
              0.3333333333333333,
              "#9c179e"
             ],
             [
              0.4444444444444444,
              "#bd3786"
             ],
             [
              0.5555555555555556,
              "#d8576b"
             ],
             [
              0.6666666666666666,
              "#ed7953"
             ],
             [
              0.7777777777777778,
              "#fb9f3a"
             ],
             [
              0.8888888888888888,
              "#fdca26"
             ],
             [
              1,
              "#f0f921"
             ]
            ],
            "type": "contour"
           }
          ],
          "contourcarpet": [
           {
            "colorbar": {
             "outlinewidth": 0,
             "ticks": ""
            },
            "type": "contourcarpet"
           }
          ],
          "heatmap": [
           {
            "colorbar": {
             "outlinewidth": 0,
             "ticks": ""
            },
            "colorscale": [
             [
              0,
              "#0d0887"
             ],
             [
              0.1111111111111111,
              "#46039f"
             ],
             [
              0.2222222222222222,
              "#7201a8"
             ],
             [
              0.3333333333333333,
              "#9c179e"
             ],
             [
              0.4444444444444444,
              "#bd3786"
             ],
             [
              0.5555555555555556,
              "#d8576b"
             ],
             [
              0.6666666666666666,
              "#ed7953"
             ],
             [
              0.7777777777777778,
              "#fb9f3a"
             ],
             [
              0.8888888888888888,
              "#fdca26"
             ],
             [
              1,
              "#f0f921"
             ]
            ],
            "type": "heatmap"
           }
          ],
          "histogram": [
           {
            "marker": {
             "pattern": {
              "fillmode": "overlay",
              "size": 10,
              "solidity": 0.2
             }
            },
            "type": "histogram"
           }
          ],
          "histogram2d": [
           {
            "colorbar": {
             "outlinewidth": 0,
             "ticks": ""
            },
            "colorscale": [
             [
              0,
              "#0d0887"
             ],
             [
              0.1111111111111111,
              "#46039f"
             ],
             [
              0.2222222222222222,
              "#7201a8"
             ],
             [
              0.3333333333333333,
              "#9c179e"
             ],
             [
              0.4444444444444444,
              "#bd3786"
             ],
             [
              0.5555555555555556,
              "#d8576b"
             ],
             [
              0.6666666666666666,
              "#ed7953"
             ],
             [
              0.7777777777777778,
              "#fb9f3a"
             ],
             [
              0.8888888888888888,
              "#fdca26"
             ],
             [
              1,
              "#f0f921"
             ]
            ],
            "type": "histogram2d"
           }
          ],
          "histogram2dcontour": [
           {
            "colorbar": {
             "outlinewidth": 0,
             "ticks": ""
            },
            "colorscale": [
             [
              0,
              "#0d0887"
             ],
             [
              0.1111111111111111,
              "#46039f"
             ],
             [
              0.2222222222222222,
              "#7201a8"
             ],
             [
              0.3333333333333333,
              "#9c179e"
             ],
             [
              0.4444444444444444,
              "#bd3786"
             ],
             [
              0.5555555555555556,
              "#d8576b"
             ],
             [
              0.6666666666666666,
              "#ed7953"
             ],
             [
              0.7777777777777778,
              "#fb9f3a"
             ],
             [
              0.8888888888888888,
              "#fdca26"
             ],
             [
              1,
              "#f0f921"
             ]
            ],
            "type": "histogram2dcontour"
           }
          ],
          "mesh3d": [
           {
            "colorbar": {
             "outlinewidth": 0,
             "ticks": ""
            },
            "type": "mesh3d"
           }
          ],
          "parcoords": [
           {
            "line": {
             "colorbar": {
              "outlinewidth": 0,
              "ticks": ""
             }
            },
            "type": "parcoords"
           }
          ],
          "pie": [
           {
            "automargin": true,
            "type": "pie"
           }
          ],
          "scatter": [
           {
            "fillpattern": {
             "fillmode": "overlay",
             "size": 10,
             "solidity": 0.2
            },
            "type": "scatter"
           }
          ],
          "scatter3d": [
           {
            "line": {
             "colorbar": {
              "outlinewidth": 0,
              "ticks": ""
             }
            },
            "marker": {
             "colorbar": {
              "outlinewidth": 0,
              "ticks": ""
             }
            },
            "type": "scatter3d"
           }
          ],
          "scattercarpet": [
           {
            "marker": {
             "colorbar": {
              "outlinewidth": 0,
              "ticks": ""
             }
            },
            "type": "scattercarpet"
           }
          ],
          "scattergeo": [
           {
            "marker": {
             "colorbar": {
              "outlinewidth": 0,
              "ticks": ""
             }
            },
            "type": "scattergeo"
           }
          ],
          "scattergl": [
           {
            "marker": {
             "colorbar": {
              "outlinewidth": 0,
              "ticks": ""
             }
            },
            "type": "scattergl"
           }
          ],
          "scattermap": [
           {
            "marker": {
             "colorbar": {
              "outlinewidth": 0,
              "ticks": ""
             }
            },
            "type": "scattermap"
           }
          ],
          "scattermapbox": [
           {
            "marker": {
             "colorbar": {
              "outlinewidth": 0,
              "ticks": ""
             }
            },
            "type": "scattermapbox"
           }
          ],
          "scatterpolar": [
           {
            "marker": {
             "colorbar": {
              "outlinewidth": 0,
              "ticks": ""
             }
            },
            "type": "scatterpolar"
           }
          ],
          "scatterpolargl": [
           {
            "marker": {
             "colorbar": {
              "outlinewidth": 0,
              "ticks": ""
             }
            },
            "type": "scatterpolargl"
           }
          ],
          "scatterternary": [
           {
            "marker": {
             "colorbar": {
              "outlinewidth": 0,
              "ticks": ""
             }
            },
            "type": "scatterternary"
           }
          ],
          "surface": [
           {
            "colorbar": {
             "outlinewidth": 0,
             "ticks": ""
            },
            "colorscale": [
             [
              0,
              "#0d0887"
             ],
             [
              0.1111111111111111,
              "#46039f"
             ],
             [
              0.2222222222222222,
              "#7201a8"
             ],
             [
              0.3333333333333333,
              "#9c179e"
             ],
             [
              0.4444444444444444,
              "#bd3786"
             ],
             [
              0.5555555555555556,
              "#d8576b"
             ],
             [
              0.6666666666666666,
              "#ed7953"
             ],
             [
              0.7777777777777778,
              "#fb9f3a"
             ],
             [
              0.8888888888888888,
              "#fdca26"
             ],
             [
              1,
              "#f0f921"
             ]
            ],
            "type": "surface"
           }
          ],
          "table": [
           {
            "cells": {
             "fill": {
              "color": "#EBF0F8"
             },
             "line": {
              "color": "white"
             }
            },
            "header": {
             "fill": {
              "color": "#C8D4E3"
             },
             "line": {
              "color": "white"
             }
            },
            "type": "table"
           }
          ]
         },
         "layout": {
          "annotationdefaults": {
           "arrowcolor": "#2a3f5f",
           "arrowhead": 0,
           "arrowwidth": 1
          },
          "autotypenumbers": "strict",
          "coloraxis": {
           "colorbar": {
            "outlinewidth": 0,
            "ticks": ""
           }
          },
          "colorscale": {
           "diverging": [
            [
             0,
             "#8e0152"
            ],
            [
             0.1,
             "#c51b7d"
            ],
            [
             0.2,
             "#de77ae"
            ],
            [
             0.3,
             "#f1b6da"
            ],
            [
             0.4,
             "#fde0ef"
            ],
            [
             0.5,
             "#f7f7f7"
            ],
            [
             0.6,
             "#e6f5d0"
            ],
            [
             0.7,
             "#b8e186"
            ],
            [
             0.8,
             "#7fbc41"
            ],
            [
             0.9,
             "#4d9221"
            ],
            [
             1,
             "#276419"
            ]
           ],
           "sequential": [
            [
             0,
             "#0d0887"
            ],
            [
             0.1111111111111111,
             "#46039f"
            ],
            [
             0.2222222222222222,
             "#7201a8"
            ],
            [
             0.3333333333333333,
             "#9c179e"
            ],
            [
             0.4444444444444444,
             "#bd3786"
            ],
            [
             0.5555555555555556,
             "#d8576b"
            ],
            [
             0.6666666666666666,
             "#ed7953"
            ],
            [
             0.7777777777777778,
             "#fb9f3a"
            ],
            [
             0.8888888888888888,
             "#fdca26"
            ],
            [
             1,
             "#f0f921"
            ]
           ],
           "sequentialminus": [
            [
             0,
             "#0d0887"
            ],
            [
             0.1111111111111111,
             "#46039f"
            ],
            [
             0.2222222222222222,
             "#7201a8"
            ],
            [
             0.3333333333333333,
             "#9c179e"
            ],
            [
             0.4444444444444444,
             "#bd3786"
            ],
            [
             0.5555555555555556,
             "#d8576b"
            ],
            [
             0.6666666666666666,
             "#ed7953"
            ],
            [
             0.7777777777777778,
             "#fb9f3a"
            ],
            [
             0.8888888888888888,
             "#fdca26"
            ],
            [
             1,
             "#f0f921"
            ]
           ]
          },
          "colorway": [
           "#636efa",
           "#EF553B",
           "#00cc96",
           "#ab63fa",
           "#FFA15A",
           "#19d3f3",
           "#FF6692",
           "#B6E880",
           "#FF97FF",
           "#FECB52"
          ],
          "font": {
           "color": "#2a3f5f"
          },
          "geo": {
           "bgcolor": "white",
           "lakecolor": "white",
           "landcolor": "#E5ECF6",
           "showlakes": true,
           "showland": true,
           "subunitcolor": "white"
          },
          "hoverlabel": {
           "align": "left"
          },
          "hovermode": "closest",
          "mapbox": {
           "style": "light"
          },
          "paper_bgcolor": "white",
          "plot_bgcolor": "#E5ECF6",
          "polar": {
           "angularaxis": {
            "gridcolor": "white",
            "linecolor": "white",
            "ticks": ""
           },
           "bgcolor": "#E5ECF6",
           "radialaxis": {
            "gridcolor": "white",
            "linecolor": "white",
            "ticks": ""
           }
          },
          "scene": {
           "xaxis": {
            "backgroundcolor": "#E5ECF6",
            "gridcolor": "white",
            "gridwidth": 2,
            "linecolor": "white",
            "showbackground": true,
            "ticks": "",
            "zerolinecolor": "white"
           },
           "yaxis": {
            "backgroundcolor": "#E5ECF6",
            "gridcolor": "white",
            "gridwidth": 2,
            "linecolor": "white",
            "showbackground": true,
            "ticks": "",
            "zerolinecolor": "white"
           },
           "zaxis": {
            "backgroundcolor": "#E5ECF6",
            "gridcolor": "white",
            "gridwidth": 2,
            "linecolor": "white",
            "showbackground": true,
            "ticks": "",
            "zerolinecolor": "white"
           }
          },
          "shapedefaults": {
           "line": {
            "color": "#2a3f5f"
           }
          },
          "ternary": {
           "aaxis": {
            "gridcolor": "white",
            "linecolor": "white",
            "ticks": ""
           },
           "baxis": {
            "gridcolor": "white",
            "linecolor": "white",
            "ticks": ""
           },
           "bgcolor": "#E5ECF6",
           "caxis": {
            "gridcolor": "white",
            "linecolor": "white",
            "ticks": ""
           }
          },
          "title": {
           "x": 0.05
          },
          "xaxis": {
           "automargin": true,
           "gridcolor": "white",
           "linecolor": "white",
           "ticks": "",
           "title": {
            "standoff": 15
           },
           "zerolinecolor": "white",
           "zerolinewidth": 2
          },
          "yaxis": {
           "automargin": true,
           "gridcolor": "white",
           "linecolor": "white",
           "ticks": "",
           "title": {
            "standoff": 15
           },
           "zerolinecolor": "white",
           "zerolinewidth": 2
          }
         }
        },
        "title": {
         "text": "Matrice de corrélation des caractéristiques numériques"
        },
        "width": 800,
        "xaxis": {
         "tickangle": 45,
         "title": {
          "text": "Caractéristiques"
         }
        },
        "yaxis": {
         "title": {
          "text": "Caractéristiques"
         }
        }
       }
      }
     },
     "metadata": {},
     "output_type": "display_data"
    }
   ],
   "source": [
    "import pandas as pd\n",
    "import numpy as np\n",
    "import plotly.graph_objects as go\n",
    "from IPython.display import display, Markdown\n",
    "\n",
    "# Sélectionner les colonnes numériques\n",
    "numeric_cols = df.select_dtypes(include=[np.number]).columns\n",
    "df_numeric = df[numeric_cols]\n",
    "corr_matrix = df_numeric.corr()\n",
    "\n",
    "# Créer une heatmap avec Plotly\n",
    "fig = go.Figure(data=go.Heatmap(\n",
    "    z=corr_matrix.values,  # Valeurs de la matrice de corrélation\n",
    "    x=corr_matrix.columns,  # Noms des colonnes (axe x)\n",
    "    y=corr_matrix.columns,  # Noms des lignes (axe y)\n",
    "    colorscale='RdBu',  # Équivalent de 'coolwarm' (rouge-bleu)\n",
    "    zmin=-1, zmax=1,  # Limites pour l'échelle de couleur\n",
    "    text=corr_matrix.values,  # Valeurs à afficher dans les cellules\n",
    "    texttemplate=\"%{text:.2f}\",  # Format des valeurs (2 décimales)\n",
    "    textfont={\"size\": 10},  # Taille de la police des annotations\n",
    "    colorbar=dict(title=\"Corrélation\"),  # Titre de la barre de couleur\n",
    "))\n",
    "\n",
    "# Mettre à jour la mise en page\n",
    "fig.update_layout(\n",
    "    title=\"Matrice de corrélation des caractéristiques numériques\",\n",
    "    width=800,  # Largeur de la figure\n",
    "    height=600,  # Hauteur de la figure\n",
    "    xaxis_title=\"Caractéristiques\",\n",
    "    yaxis_title=\"Caractéristiques\",\n",
    "    xaxis=dict(tickangle=45),  # Rotation des étiquettes sur l'axe x\n",
    ")\n",
    "\n",
    "# Afficher la figure\n",
    "fig.show()"
   ]
  },
  {
   "cell_type": "code",
   "execution_count": 172,
   "metadata": {},
   "outputs": [
    {
     "data": {
      "text/markdown": [
       "### Variables très corrélées entre elles (|corr| > 0.7) :"
      ],
      "text/plain": [
       "<IPython.core.display.Markdown object>"
      ]
     },
     "metadata": {},
     "output_type": "display_data"
    },
    {
     "data": {
      "text/html": [
       "<div>\n",
       "<style scoped>\n",
       "    .dataframe tbody tr th:only-of-type {\n",
       "        vertical-align: middle;\n",
       "    }\n",
       "\n",
       "    .dataframe tbody tr th {\n",
       "        vertical-align: top;\n",
       "    }\n",
       "\n",
       "    .dataframe thead th {\n",
       "        text-align: right;\n",
       "    }\n",
       "</style>\n",
       "<table border=\"1\" class=\"dataframe\">\n",
       "  <thead>\n",
       "    <tr style=\"text-align: right;\">\n",
       "      <th></th>\n",
       "      <th>Variable 1</th>\n",
       "      <th>Variable 2</th>\n",
       "      <th>Corrélation</th>\n",
       "    </tr>\n",
       "  </thead>\n",
       "  <tbody>\n",
       "    <tr>\n",
       "      <th>0</th>\n",
       "      <td>Mean</td>\n",
       "      <td>Dominant Amplitude</td>\n",
       "      <td>0.740196</td>\n",
       "    </tr>\n",
       "    <tr>\n",
       "      <th>1</th>\n",
       "      <td>Std</td>\n",
       "      <td>Max</td>\n",
       "      <td>0.831877</td>\n",
       "    </tr>\n",
       "    <tr>\n",
       "      <th>2</th>\n",
       "      <td>Std</td>\n",
       "      <td>Min</td>\n",
       "      <td>-0.817131</td>\n",
       "    </tr>\n",
       "    <tr>\n",
       "      <th>3</th>\n",
       "      <td>Std</td>\n",
       "      <td>Kurtosis</td>\n",
       "      <td>0.740425</td>\n",
       "    </tr>\n",
       "    <tr>\n",
       "      <th>4</th>\n",
       "      <td>Std</td>\n",
       "      <td>Dominant Frequency</td>\n",
       "      <td>-0.747951</td>\n",
       "    </tr>\n",
       "    <tr>\n",
       "      <th>5</th>\n",
       "      <td>Std</td>\n",
       "      <td>Spectral Energy</td>\n",
       "      <td>0.972963</td>\n",
       "    </tr>\n",
       "    <tr>\n",
       "      <th>6</th>\n",
       "      <td>Std</td>\n",
       "      <td>Envelope Mean</td>\n",
       "      <td>0.877358</td>\n",
       "    </tr>\n",
       "    <tr>\n",
       "      <th>7</th>\n",
       "      <td>Std</td>\n",
       "      <td>Envelope Std</td>\n",
       "      <td>0.920952</td>\n",
       "    </tr>\n",
       "    <tr>\n",
       "      <th>8</th>\n",
       "      <td>Std</td>\n",
       "      <td>Envelope Dominant Amplitude</td>\n",
       "      <td>0.877358</td>\n",
       "    </tr>\n",
       "    <tr>\n",
       "      <th>9</th>\n",
       "      <td>Std</td>\n",
       "      <td>Label</td>\n",
       "      <td>0.760535</td>\n",
       "    </tr>\n",
       "    <tr>\n",
       "      <th>10</th>\n",
       "      <td>Max</td>\n",
       "      <td>Min</td>\n",
       "      <td>-0.979683</td>\n",
       "    </tr>\n",
       "    <tr>\n",
       "      <th>11</th>\n",
       "      <td>Max</td>\n",
       "      <td>Kurtosis</td>\n",
       "      <td>0.956099</td>\n",
       "    </tr>\n",
       "    <tr>\n",
       "      <th>12</th>\n",
       "      <td>Max</td>\n",
       "      <td>Dominant Frequency</td>\n",
       "      <td>-0.883414</td>\n",
       "    </tr>\n",
       "    <tr>\n",
       "      <th>13</th>\n",
       "      <td>Max</td>\n",
       "      <td>Spectral Energy</td>\n",
       "      <td>0.920691</td>\n",
       "    </tr>\n",
       "    <tr>\n",
       "      <th>14</th>\n",
       "      <td>Max</td>\n",
       "      <td>Envelope Std</td>\n",
       "      <td>0.975638</td>\n",
       "    </tr>\n",
       "    <tr>\n",
       "      <th>15</th>\n",
       "      <td>Max</td>\n",
       "      <td>Label</td>\n",
       "      <td>0.901942</td>\n",
       "    </tr>\n",
       "    <tr>\n",
       "      <th>16</th>\n",
       "      <td>Min</td>\n",
       "      <td>Kurtosis</td>\n",
       "      <td>-0.968737</td>\n",
       "    </tr>\n",
       "    <tr>\n",
       "      <th>17</th>\n",
       "      <td>Min</td>\n",
       "      <td>Dominant Frequency</td>\n",
       "      <td>0.854699</td>\n",
       "    </tr>\n",
       "    <tr>\n",
       "      <th>18</th>\n",
       "      <td>Min</td>\n",
       "      <td>Spectral Energy</td>\n",
       "      <td>-0.913688</td>\n",
       "    </tr>\n",
       "    <tr>\n",
       "      <th>19</th>\n",
       "      <td>Min</td>\n",
       "      <td>Envelope Std</td>\n",
       "      <td>-0.965139</td>\n",
       "    </tr>\n",
       "    <tr>\n",
       "      <th>20</th>\n",
       "      <td>Min</td>\n",
       "      <td>Label</td>\n",
       "      <td>-0.875507</td>\n",
       "    </tr>\n",
       "    <tr>\n",
       "      <th>21</th>\n",
       "      <td>Kurtosis</td>\n",
       "      <td>Dominant Frequency</td>\n",
       "      <td>-0.743060</td>\n",
       "    </tr>\n",
       "    <tr>\n",
       "      <th>22</th>\n",
       "      <td>Kurtosis</td>\n",
       "      <td>Spectral Energy</td>\n",
       "      <td>0.868579</td>\n",
       "    </tr>\n",
       "    <tr>\n",
       "      <th>23</th>\n",
       "      <td>Kurtosis</td>\n",
       "      <td>Envelope Std</td>\n",
       "      <td>0.910868</td>\n",
       "    </tr>\n",
       "    <tr>\n",
       "      <th>24</th>\n",
       "      <td>Kurtosis</td>\n",
       "      <td>Label</td>\n",
       "      <td>0.770940</td>\n",
       "    </tr>\n",
       "    <tr>\n",
       "      <th>25</th>\n",
       "      <td>Dominant Frequency</td>\n",
       "      <td>Spectral Energy</td>\n",
       "      <td>-0.785525</td>\n",
       "    </tr>\n",
       "    <tr>\n",
       "      <th>26</th>\n",
       "      <td>Dominant Frequency</td>\n",
       "      <td>Envelope Std</td>\n",
       "      <td>-0.894707</td>\n",
       "    </tr>\n",
       "    <tr>\n",
       "      <th>27</th>\n",
       "      <td>Dominant Frequency</td>\n",
       "      <td>Label</td>\n",
       "      <td>-0.998945</td>\n",
       "    </tr>\n",
       "    <tr>\n",
       "      <th>28</th>\n",
       "      <td>Dominant Amplitude</td>\n",
       "      <td>Envelope Mean</td>\n",
       "      <td>0.711874</td>\n",
       "    </tr>\n",
       "    <tr>\n",
       "      <th>29</th>\n",
       "      <td>Dominant Amplitude</td>\n",
       "      <td>Envelope Dominant Amplitude</td>\n",
       "      <td>0.711874</td>\n",
       "    </tr>\n",
       "    <tr>\n",
       "      <th>30</th>\n",
       "      <td>Spectral Energy</td>\n",
       "      <td>Envelope Mean</td>\n",
       "      <td>0.751180</td>\n",
       "    </tr>\n",
       "    <tr>\n",
       "      <th>31</th>\n",
       "      <td>Spectral Energy</td>\n",
       "      <td>Envelope Std</td>\n",
       "      <td>0.972594</td>\n",
       "    </tr>\n",
       "    <tr>\n",
       "      <th>32</th>\n",
       "      <td>Spectral Energy</td>\n",
       "      <td>Envelope Dominant Amplitude</td>\n",
       "      <td>0.751180</td>\n",
       "    </tr>\n",
       "    <tr>\n",
       "      <th>33</th>\n",
       "      <td>Spectral Energy</td>\n",
       "      <td>Label</td>\n",
       "      <td>0.804064</td>\n",
       "    </tr>\n",
       "    <tr>\n",
       "      <th>34</th>\n",
       "      <td>Envelope Mean</td>\n",
       "      <td>Envelope Dominant Amplitude</td>\n",
       "      <td>1.000000</td>\n",
       "    </tr>\n",
       "    <tr>\n",
       "      <th>35</th>\n",
       "      <td>Envelope Std</td>\n",
       "      <td>Label</td>\n",
       "      <td>0.910395</td>\n",
       "    </tr>\n",
       "  </tbody>\n",
       "</table>\n",
       "</div>"
      ],
      "text/plain": [
       "            Variable 1                   Variable 2  Corrélation\n",
       "0                 Mean           Dominant Amplitude     0.740196\n",
       "1                  Std                          Max     0.831877\n",
       "2                  Std                          Min    -0.817131\n",
       "3                  Std                     Kurtosis     0.740425\n",
       "4                  Std           Dominant Frequency    -0.747951\n",
       "5                  Std              Spectral Energy     0.972963\n",
       "6                  Std                Envelope Mean     0.877358\n",
       "7                  Std                 Envelope Std     0.920952\n",
       "8                  Std  Envelope Dominant Amplitude     0.877358\n",
       "9                  Std                        Label     0.760535\n",
       "10                 Max                          Min    -0.979683\n",
       "11                 Max                     Kurtosis     0.956099\n",
       "12                 Max           Dominant Frequency    -0.883414\n",
       "13                 Max              Spectral Energy     0.920691\n",
       "14                 Max                 Envelope Std     0.975638\n",
       "15                 Max                        Label     0.901942\n",
       "16                 Min                     Kurtosis    -0.968737\n",
       "17                 Min           Dominant Frequency     0.854699\n",
       "18                 Min              Spectral Energy    -0.913688\n",
       "19                 Min                 Envelope Std    -0.965139\n",
       "20                 Min                        Label    -0.875507\n",
       "21            Kurtosis           Dominant Frequency    -0.743060\n",
       "22            Kurtosis              Spectral Energy     0.868579\n",
       "23            Kurtosis                 Envelope Std     0.910868\n",
       "24            Kurtosis                        Label     0.770940\n",
       "25  Dominant Frequency              Spectral Energy    -0.785525\n",
       "26  Dominant Frequency                 Envelope Std    -0.894707\n",
       "27  Dominant Frequency                        Label    -0.998945\n",
       "28  Dominant Amplitude                Envelope Mean     0.711874\n",
       "29  Dominant Amplitude  Envelope Dominant Amplitude     0.711874\n",
       "30     Spectral Energy                Envelope Mean     0.751180\n",
       "31     Spectral Energy                 Envelope Std     0.972594\n",
       "32     Spectral Energy  Envelope Dominant Amplitude     0.751180\n",
       "33     Spectral Energy                        Label     0.804064\n",
       "34       Envelope Mean  Envelope Dominant Amplitude     1.000000\n",
       "35        Envelope Std                        Label     0.910395"
      ]
     },
     "metadata": {},
     "output_type": "display_data"
    }
   ],
   "source": [
    "threshold_high = 0.7\n",
    "high_corr_pairs = []\n",
    "for i in range(len(corr_matrix.columns)):\n",
    "    for j in range(i + 1, len(corr_matrix.columns)):\n",
    "        if abs(corr_matrix.iloc[i, j]) > threshold_high:\n",
    "            high_corr_pairs.append((corr_matrix.columns[i], corr_matrix.columns[j], corr_matrix.iloc[i, j]))\n",
    "\n",
    "display(Markdown(\"### Variables très corrélées entre elles (|corr| > 0.7) :\"))\n",
    "if high_corr_pairs:\n",
    "    display(pd.DataFrame(high_corr_pairs, columns=['Variable 1', 'Variable 2', 'Corrélation']))\n",
    "else:\n",
    "    display(Markdown(\"- Aucune détectée\"))"
   ]
  },
  {
   "cell_type": "code",
   "execution_count": 173,
   "metadata": {},
   "outputs": [
    {
     "data": {
      "text/markdown": [
       "### Variables peu corrélées avec Label (|corr| < 0.3) :"
      ],
      "text/plain": [
       "<IPython.core.display.Markdown object>"
      ]
     },
     "metadata": {},
     "output_type": "display_data"
    },
    {
     "data": {
      "text/html": [
       "<div>\n",
       "<style scoped>\n",
       "    .dataframe tbody tr th:only-of-type {\n",
       "        vertical-align: middle;\n",
       "    }\n",
       "\n",
       "    .dataframe tbody tr th {\n",
       "        vertical-align: top;\n",
       "    }\n",
       "\n",
       "    .dataframe thead th {\n",
       "        text-align: right;\n",
       "    }\n",
       "</style>\n",
       "<table border=\"1\" class=\"dataframe\">\n",
       "  <thead>\n",
       "    <tr style=\"text-align: right;\">\n",
       "      <th></th>\n",
       "      <th>Corrélation</th>\n",
       "    </tr>\n",
       "  </thead>\n",
       "  <tbody>\n",
       "  </tbody>\n",
       "</table>\n",
       "</div>"
      ],
      "text/plain": [
       "Empty DataFrame\n",
       "Columns: [Corrélation]\n",
       "Index: []"
      ]
     },
     "metadata": {},
     "output_type": "display_data"
    }
   ],
   "source": [
    "threshold_low = 0.3\n",
    "label_corr = corr_matrix['Label'].drop('Label')\n",
    "low_corr_vars = label_corr[abs(label_corr) < threshold_low]\n",
    "\n",
    "display(Markdown(\"### Variables peu corrélées avec Label (|corr| < 0.3) :\"))\n",
    "if not low_corr_vars.empty:\n",
    "    display(pd.DataFrame(low_corr_vars, columns=['Corrélation']))\n",
    "else:\n",
    "    display(Markdown(\"- Aucune détectée\"))"
   ]
  },
  {
   "cell_type": "code",
   "execution_count": 174,
   "metadata": {},
   "outputs": [
    {
     "data": {
      "text/markdown": [
       "### Features conservées après élimination :"
      ],
      "text/plain": [
       "<IPython.core.display.Markdown object>"
      ]
     },
     "metadata": {},
     "output_type": "display_data"
    },
    {
     "data": {
      "text/plain": [
       "0                            Mean\n",
       "1                             Std\n",
       "2                             Max\n",
       "3                             Min\n",
       "4                        Kurtosis\n",
       "5                            Skew\n",
       "6              Dominant Frequency\n",
       "7              Dominant Amplitude\n",
       "8                 Spectral Energy\n",
       "9                   Envelope Mean\n",
       "10                   Envelope Std\n",
       "11    Envelope Dominant Frequency\n",
       "12    Envelope Dominant Amplitude\n",
       "dtype: object"
      ]
     },
     "metadata": {},
     "output_type": "display_data"
    },
    {
     "data": {
      "text/markdown": [
       "### Nouvelle forme de X : (2452, 13)"
      ],
      "text/plain": [
       "<IPython.core.display.Markdown object>"
      ]
     },
     "metadata": {},
     "output_type": "display_data"
    }
   ],
   "source": [
    "# Liste des features initiales\n",
    "features = [col for col in df.select_dtypes(include=[np.number]).columns if col != 'Label']\n",
    "\n",
    "# Importance des caractéristiques (basée sur ton tableau)\n",
    "feature_importance = pd.DataFrame({\n",
    "    'Feature': ['Mean', 'Std', 'Max', 'Min', 'Kurtosis', 'Skew', 'Dominant Frequency', \n",
    "                'Dominant Amplitude', 'Spectral Energy', 'Envelope Mean', 'Envelope Std', \n",
    "                'Envelope Dominant Frequency', 'Envelope Dominant Amplitude'],\n",
    "    'Importance': [0.000000, 0.120000, 0.100000, 0.129307, 0.150020, 0.016148, 0.220000, \n",
    "                   0.007627, 0.100000, 0.006899, 0.150000, 0.000000, 0.000000]\n",
    "})\n",
    "\n",
    "# Seuil pour garder les features (ajustable)\n",
    "threshold = 0\n",
    "features_to_keep = feature_importance[feature_importance['Importance'] >= threshold]['Feature'].tolist()\n",
    "\n",
    "# Mettre à jour X avec les features retenues\n",
    "X = df[features_to_keep]\n",
    "# Affichage pour vérification\n",
    "from IPython.display import display, Markdown\n",
    "display(Markdown(\"### Features conservées après élimination :\"))\n",
    "display(pd.Series(features_to_keep))\n",
    "display(Markdown(f\"### Nouvelle forme de X : {X.shape}\"))"
   ]
  },
  {
   "cell_type": "code",
   "execution_count": 175,
   "metadata": {},
   "outputs": [],
   "source": [
    "X.drop(columns='Dominant Frequency', inplace=True)"
   ]
  },
  {
   "cell_type": "code",
   "execution_count": 176,
   "metadata": {},
   "outputs": [
    {
     "data": {
      "text/markdown": [
       "### Variables très corrélées à supprimer (|corr| > 0.7) :"
      ],
      "text/plain": [
       "<IPython.core.display.Markdown object>"
      ]
     },
     "metadata": {},
     "output_type": "display_data"
    },
    {
     "data": {
      "text/plain": [
       "0                            Max\n",
       "1                            Min\n",
       "2    Envelope Dominant Amplitude\n",
       "3                Spectral Energy\n",
       "4             Dominant Amplitude\n",
       "5                       Kurtosis\n",
       "6                   Envelope Std\n",
       "7                  Envelope Mean\n",
       "dtype: object"
      ]
     },
     "metadata": {},
     "output_type": "display_data"
    },
    {
     "data": {
      "text/markdown": [
       "### Features après suppression des variables corrélées :"
      ],
      "text/plain": [
       "<IPython.core.display.Markdown object>"
      ]
     },
     "metadata": {},
     "output_type": "display_data"
    },
    {
     "data": {
      "text/plain": [
       "0                           Mean\n",
       "1                            Std\n",
       "2                           Skew\n",
       "3    Envelope Dominant Frequency\n",
       "dtype: object"
      ]
     },
     "metadata": {},
     "output_type": "display_data"
    },
    {
     "data": {
      "text/markdown": [
       "### Nouvelle forme de X : (2452, 4)"
      ],
      "text/plain": [
       "<IPython.core.display.Markdown object>"
      ]
     },
     "metadata": {},
     "output_type": "display_data"
    }
   ],
   "source": [
    "from IPython.display import display, Markdown\n",
    "import numpy as np\n",
    "\n",
    "# Calculer la matrice de corrélation\n",
    "numeric_cols = X.select_dtypes(include=[np.number]).columns\n",
    "corr_matrix = X[numeric_cols].corr()\n",
    "\n",
    "# Seuil pour les corrélations fortes\n",
    "threshold = 0.7\n",
    "\n",
    "# Identifier les paires de variables très corrélées\n",
    "cols_to_drop = set()  # Utiliser un set pour éviter les doublons\n",
    "for i in range(len(corr_matrix.columns)):\n",
    "    for j in range(i + 1, len(corr_matrix.columns)):\n",
    "        if abs(corr_matrix.iloc[i, j]) > threshold:\n",
    "            # Ajouter la deuxième variable de la paire à la liste des colonnes à supprimer\n",
    "            col_to_drop = corr_matrix.columns[j]\n",
    "            cols_to_drop.add(col_to_drop)\n",
    "\n",
    "# Convertir en liste pour affichage\n",
    "cols_to_drop = list(cols_to_drop)\n",
    "\n",
    "# Afficher les colonnes à supprimer\n",
    "display(Markdown(\"### Variables très corrélées à supprimer (|corr| > 0.7) :\"))\n",
    "if cols_to_drop:\n",
    "    display(pd.Series(cols_to_drop))\n",
    "else:\n",
    "    display(Markdown(\"- Aucune variable très corrélée détectée\"))\n",
    "\n",
    "# Supprimer les colonnes de X\n",
    "X = X.drop(columns=cols_to_drop, errors='ignore')\n",
    "# Afficher les features restantes\n",
    "display(Markdown(\"### Features après suppression des variables corrélées :\"))\n",
    "display(pd.Series(X.columns))\n",
    "display(Markdown(f\"### Nouvelle forme de X : {X.shape}\"))"
   ]
  },
  {
   "cell_type": "code",
   "execution_count": 177,
   "metadata": {},
   "outputs": [
    {
     "data": {
      "text/markdown": [
       "### Dimensions des ensembles :"
      ],
      "text/plain": [
       "<IPython.core.display.Markdown object>"
      ]
     },
     "metadata": {},
     "output_type": "display_data"
    },
    {
     "data": {
      "text/markdown": [
       "- Train : (1961, 4)"
      ],
      "text/plain": [
       "<IPython.core.display.Markdown object>"
      ]
     },
     "metadata": {},
     "output_type": "display_data"
    },
    {
     "data": {
      "text/markdown": [
       "- Test : (491, 4)"
      ],
      "text/plain": [
       "<IPython.core.display.Markdown object>"
      ]
     },
     "metadata": {},
     "output_type": "display_data"
    }
   ],
   "source": [
    "X_train, X_test, y_train, y_test = train_test_split(X, y, test_size=0.2, random_state=42)\n",
    "display(Markdown(f\"### Dimensions des ensembles :\"))\n",
    "display(Markdown(f\"- Train : {X_train.shape}\"))\n",
    "display(Markdown(f\"- Test : {X_test.shape}\"))"
   ]
  },
  {
   "cell_type": "code",
   "execution_count": 178,
   "metadata": {},
   "outputs": [
    {
     "data": {
      "text/markdown": [
       "### Pipeline entraînée avec succès"
      ],
      "text/plain": [
       "<IPython.core.display.Markdown object>"
      ]
     },
     "metadata": {},
     "output_type": "display_data"
    }
   ],
   "source": [
    "# Définir la pipeline\n",
    "pipeline = Pipeline([\n",
    "    ('scaler', StandardScaler()),  # Normalisation des features\n",
    "    ('classifier', RandomForestClassifier(random_state=42))\n",
    "])\n",
    "\n",
    "# Entraîner la pipeline\n",
    "pipeline.fit(X_train, y_train)\n",
    "\n",
    "display(Markdown(\"### Pipeline entraînée avec succès\"))"
   ]
  },
  {
   "cell_type": "code",
   "execution_count": 179,
   "metadata": {},
   "outputs": [],
   "source": [
    "import numpy as np\n",
    "import plotly.figure_factory as ff\n",
    "import plotly.graph_objects as go\n",
    "from plotly.subplots import make_subplots\n",
    "from sklearn.metrics import confusion_matrix, classification_report, roc_curve, auc\n",
    "\n",
    "def evaluate_model(model, X_train, y_train, X_test, y_test):\n",
    "    \n",
    "    y_train_pred = model.predict(X_train)\n",
    "    y_test_pred = model.predict(X_test)\n",
    "    \n",
    "    if hasattr(model, \"predict_proba\"): \n",
    "        y_train_proba = model.predict_proba(X_train)[:, 1]\n",
    "        y_test_proba = model.predict_proba(X_test)[:, 1]\n",
    "    else:\n",
    "        y_train_proba = y_train_pred\n",
    "        y_test_proba = y_test_pred\n",
    "\n",
    "    # Création des matrices de confusion\n",
    "    cm_train = confusion_matrix(y_train, y_train_pred)\n",
    "    cm_test = confusion_matrix(y_test, y_test_pred)\n",
    "    labels_true = [\"True 0\", \"True 1\"]\n",
    "    labels_pred = [\"Prédiction 0\", \"Prédiction 1\"]\n",
    "    \n",
    "    \n",
    "    # Création d'une figure avec sous-graphiques\n",
    "    fig = make_subplots(rows=1, cols=2, subplot_titles=(\"Matrice de confusion - Train\", \"Matrice de confusion - Test\"),\n",
    "                        horizontal_spacing=0.2)\n",
    "\n",
    "    # Ajout des heatmaps\n",
    "    fig.add_trace(go.Heatmap(z=cm_train, x=labels_pred, y=labels_true, colorscale=\"blues\", showscale=True), row=1, col=1)\n",
    "    fig.add_trace(go.Heatmap(z=cm_test, x=labels_pred, y=labels_true, colorscale=\"blues\", showscale=True), row=1, col=2)\n",
    "\n",
    "    # Ajouter manuellement les annotations\n",
    "    for i in range(cm_train.shape[0]):\n",
    "        for j in range(cm_train.shape[1]):\n",
    "            fig.add_annotation(text=str(cm_train[i, j]), x=labels_pred[j], y=labels_true[i],\n",
    "                               xref=f\"x1\", yref=f\"y1\", showarrow=False, font=dict(color=\"black\"))\n",
    "\n",
    "    for i in range(cm_test.shape[0]):\n",
    "        for j in range(cm_test.shape[1]):\n",
    "            fig.add_annotation(text=str(cm_test[i, j]), x=labels_pred[j], y=labels_true[i],\n",
    "                               xref=f\"x2\", yref=f\"y2\", showarrow=False, font=dict(color=\"black\"))\n",
    "\n",
    "    fig.update_layout(title_text=\"Matrices de confusion - Train et Test\", height=500, width=1000)\n",
    "    fig.show()\n",
    "    # Calcul des courbes ROC\n",
    "    fpr_train, tpr_train, _ = roc_curve(y_train, y_train_proba)\n",
    "    fpr_test, tpr_test, _ = roc_curve(y_test, y_test_proba)\n",
    "    auc_train = auc(fpr_train, tpr_train)\n",
    "    auc_test = auc(fpr_test, tpr_test)\n",
    "    \n",
    "    fig = go.Figure()\n",
    "    fig.add_trace(go.Scatter(x=fpr_train, y=tpr_train, mode=\"lines\", name=f\"Train ROC (AUC={auc_train:.2f})\", line=dict(color=\"blue\")))\n",
    "    fig.add_trace(go.Scatter(x=fpr_test, y=tpr_test, mode=\"lines\", name=f\"Test ROC (AUC={auc_test:.2f})\", line=dict(color=\"red\")))\n",
    "    fig.add_trace(go.Scatter(x=[0, 1], y=[0, 1], mode=\"lines\", name=\"Random\", line=dict(dash=\"dash\", color=\"gray\")))\n",
    "    \n",
    "    fig.update_layout(title=\"Courbe ROC\", xaxis_title=\"Taux de faux positifs (FPR)\", yaxis_title=\"Taux de vrais positifs (TPR)\")\n",
    "    fig.show()\n",
    "    \n",
    "    \n",
    "    print(\"\\n=== Rapport de classification (Train) ===\")\n",
    "    print(classification_report(y_train, y_train_pred))\n",
    "    \n",
    "    print(\"\\n=== Rapport de classification (Test) ===\")\n",
    "    print(classification_report(y_test, y_test_pred))"
   ]
  },
  {
   "cell_type": "code",
   "execution_count": 63,
   "metadata": {},
   "outputs": [
    {
     "name": "stdout",
     "output_type": "stream",
     "text": [
      "Requirement already satisfied: nbformat in ./mon_env/lib/python3.11/site-packages (5.10.4)\n",
      "Requirement already satisfied: fastjsonschema>=2.15 in ./mon_env/lib/python3.11/site-packages (from nbformat) (2.21.1)\n",
      "Requirement already satisfied: jsonschema>=2.6 in ./mon_env/lib/python3.11/site-packages (from nbformat) (4.23.0)\n",
      "Requirement already satisfied: jupyter-core!=5.0.*,>=4.12 in ./mon_env/lib/python3.11/site-packages (from nbformat) (5.7.2)\n",
      "Requirement already satisfied: traitlets>=5.1 in ./mon_env/lib/python3.11/site-packages (from nbformat) (5.14.3)\n",
      "Requirement already satisfied: attrs>=22.2.0 in ./mon_env/lib/python3.11/site-packages (from jsonschema>=2.6->nbformat) (25.3.0)\n",
      "Requirement already satisfied: jsonschema-specifications>=2023.03.6 in ./mon_env/lib/python3.11/site-packages (from jsonschema>=2.6->nbformat) (2024.10.1)\n",
      "Requirement already satisfied: referencing>=0.28.4 in ./mon_env/lib/python3.11/site-packages (from jsonschema>=2.6->nbformat) (0.36.2)\n",
      "Requirement already satisfied: rpds-py>=0.7.1 in ./mon_env/lib/python3.11/site-packages (from jsonschema>=2.6->nbformat) (0.24.0)\n",
      "Requirement already satisfied: platformdirs>=2.5 in ./mon_env/lib/python3.11/site-packages (from jupyter-core!=5.0.*,>=4.12->nbformat) (4.3.7)\n",
      "Requirement already satisfied: typing-extensions>=4.4.0 in ./mon_env/lib/python3.11/site-packages (from referencing>=0.28.4->jsonschema>=2.6->nbformat) (4.13.1)\n",
      "Note: you may need to restart the kernel to use updated packages.\n"
     ]
    }
   ],
   "source": [
    "pip install nbformat"
   ]
  },
  {
   "cell_type": "code",
   "execution_count": 180,
   "metadata": {},
   "outputs": [
    {
     "data": {
      "text/markdown": [
       "### Évaluation du modèle"
      ],
      "text/plain": [
       "<IPython.core.display.Markdown object>"
      ]
     },
     "metadata": {},
     "output_type": "display_data"
    },
    {
     "data": {
      "application/vnd.plotly.v1+json": {
       "config": {
        "plotlyServerURL": "https://plot.ly"
       },
       "data": [
        {
         "colorscale": [
          [
           0,
           "rgb(247,251,255)"
          ],
          [
           0.125,
           "rgb(222,235,247)"
          ],
          [
           0.25,
           "rgb(198,219,239)"
          ],
          [
           0.375,
           "rgb(158,202,225)"
          ],
          [
           0.5,
           "rgb(107,174,214)"
          ],
          [
           0.625,
           "rgb(66,146,198)"
          ],
          [
           0.75,
           "rgb(33,113,181)"
          ],
          [
           0.875,
           "rgb(8,81,156)"
          ],
          [
           1,
           "rgb(8,48,107)"
          ]
         ],
         "showscale": true,
         "type": "heatmap",
         "x": [
          "Prédiction 0",
          "Prédiction 1"
         ],
         "xaxis": "x",
         "y": [
          "True 0",
          "True 1"
         ],
         "yaxis": "y",
         "z": {
          "bdata": "IQQAAAAAiAM=",
          "dtype": "i2",
          "shape": "2, 2"
         }
        },
        {
         "colorscale": [
          [
           0,
           "rgb(247,251,255)"
          ],
          [
           0.125,
           "rgb(222,235,247)"
          ],
          [
           0.25,
           "rgb(198,219,239)"
          ],
          [
           0.375,
           "rgb(158,202,225)"
          ],
          [
           0.5,
           "rgb(107,174,214)"
          ],
          [
           0.625,
           "rgb(66,146,198)"
          ],
          [
           0.75,
           "rgb(33,113,181)"
          ],
          [
           0.875,
           "rgb(8,81,156)"
          ],
          [
           1,
           "rgb(8,48,107)"
          ]
         ],
         "showscale": true,
         "type": "heatmap",
         "x": [
          "Prédiction 0",
          "Prédiction 1"
         ],
         "xaxis": "x2",
         "y": [
          "True 0",
          "True 1"
         ],
         "yaxis": "y2",
         "z": {
          "bdata": "DwEAAAAA3AA=",
          "dtype": "i2",
          "shape": "2, 2"
         }
        }
       ],
       "layout": {
        "annotations": [
         {
          "font": {
           "size": 16
          },
          "showarrow": false,
          "text": "Matrice de confusion - Train",
          "x": 0.2,
          "xanchor": "center",
          "xref": "paper",
          "y": 1,
          "yanchor": "bottom",
          "yref": "paper"
         },
         {
          "font": {
           "size": 16
          },
          "showarrow": false,
          "text": "Matrice de confusion - Test",
          "x": 0.8,
          "xanchor": "center",
          "xref": "paper",
          "y": 1,
          "yanchor": "bottom",
          "yref": "paper"
         },
         {
          "font": {
           "color": "black"
          },
          "showarrow": false,
          "text": "1057",
          "x": "Prédiction 0",
          "xref": "x",
          "y": "True 0",
          "yref": "y"
         },
         {
          "font": {
           "color": "black"
          },
          "showarrow": false,
          "text": "0",
          "x": "Prédiction 1",
          "xref": "x",
          "y": "True 0",
          "yref": "y"
         },
         {
          "font": {
           "color": "black"
          },
          "showarrow": false,
          "text": "0",
          "x": "Prédiction 0",
          "xref": "x",
          "y": "True 1",
          "yref": "y"
         },
         {
          "font": {
           "color": "black"
          },
          "showarrow": false,
          "text": "904",
          "x": "Prédiction 1",
          "xref": "x",
          "y": "True 1",
          "yref": "y"
         },
         {
          "font": {
           "color": "black"
          },
          "showarrow": false,
          "text": "271",
          "x": "Prédiction 0",
          "xref": "x2",
          "y": "True 0",
          "yref": "y2"
         },
         {
          "font": {
           "color": "black"
          },
          "showarrow": false,
          "text": "0",
          "x": "Prédiction 1",
          "xref": "x2",
          "y": "True 0",
          "yref": "y2"
         },
         {
          "font": {
           "color": "black"
          },
          "showarrow": false,
          "text": "0",
          "x": "Prédiction 0",
          "xref": "x2",
          "y": "True 1",
          "yref": "y2"
         },
         {
          "font": {
           "color": "black"
          },
          "showarrow": false,
          "text": "220",
          "x": "Prédiction 1",
          "xref": "x2",
          "y": "True 1",
          "yref": "y2"
         }
        ],
        "height": 500,
        "template": {
         "data": {
          "bar": [
           {
            "error_x": {
             "color": "#2a3f5f"
            },
            "error_y": {
             "color": "#2a3f5f"
            },
            "marker": {
             "line": {
              "color": "#E5ECF6",
              "width": 0.5
             },
             "pattern": {
              "fillmode": "overlay",
              "size": 10,
              "solidity": 0.2
             }
            },
            "type": "bar"
           }
          ],
          "barpolar": [
           {
            "marker": {
             "line": {
              "color": "#E5ECF6",
              "width": 0.5
             },
             "pattern": {
              "fillmode": "overlay",
              "size": 10,
              "solidity": 0.2
             }
            },
            "type": "barpolar"
           }
          ],
          "carpet": [
           {
            "aaxis": {
             "endlinecolor": "#2a3f5f",
             "gridcolor": "white",
             "linecolor": "white",
             "minorgridcolor": "white",
             "startlinecolor": "#2a3f5f"
            },
            "baxis": {
             "endlinecolor": "#2a3f5f",
             "gridcolor": "white",
             "linecolor": "white",
             "minorgridcolor": "white",
             "startlinecolor": "#2a3f5f"
            },
            "type": "carpet"
           }
          ],
          "choropleth": [
           {
            "colorbar": {
             "outlinewidth": 0,
             "ticks": ""
            },
            "type": "choropleth"
           }
          ],
          "contour": [
           {
            "colorbar": {
             "outlinewidth": 0,
             "ticks": ""
            },
            "colorscale": [
             [
              0,
              "#0d0887"
             ],
             [
              0.1111111111111111,
              "#46039f"
             ],
             [
              0.2222222222222222,
              "#7201a8"
             ],
             [
              0.3333333333333333,
              "#9c179e"
             ],
             [
              0.4444444444444444,
              "#bd3786"
             ],
             [
              0.5555555555555556,
              "#d8576b"
             ],
             [
              0.6666666666666666,
              "#ed7953"
             ],
             [
              0.7777777777777778,
              "#fb9f3a"
             ],
             [
              0.8888888888888888,
              "#fdca26"
             ],
             [
              1,
              "#f0f921"
             ]
            ],
            "type": "contour"
           }
          ],
          "contourcarpet": [
           {
            "colorbar": {
             "outlinewidth": 0,
             "ticks": ""
            },
            "type": "contourcarpet"
           }
          ],
          "heatmap": [
           {
            "colorbar": {
             "outlinewidth": 0,
             "ticks": ""
            },
            "colorscale": [
             [
              0,
              "#0d0887"
             ],
             [
              0.1111111111111111,
              "#46039f"
             ],
             [
              0.2222222222222222,
              "#7201a8"
             ],
             [
              0.3333333333333333,
              "#9c179e"
             ],
             [
              0.4444444444444444,
              "#bd3786"
             ],
             [
              0.5555555555555556,
              "#d8576b"
             ],
             [
              0.6666666666666666,
              "#ed7953"
             ],
             [
              0.7777777777777778,
              "#fb9f3a"
             ],
             [
              0.8888888888888888,
              "#fdca26"
             ],
             [
              1,
              "#f0f921"
             ]
            ],
            "type": "heatmap"
           }
          ],
          "histogram": [
           {
            "marker": {
             "pattern": {
              "fillmode": "overlay",
              "size": 10,
              "solidity": 0.2
             }
            },
            "type": "histogram"
           }
          ],
          "histogram2d": [
           {
            "colorbar": {
             "outlinewidth": 0,
             "ticks": ""
            },
            "colorscale": [
             [
              0,
              "#0d0887"
             ],
             [
              0.1111111111111111,
              "#46039f"
             ],
             [
              0.2222222222222222,
              "#7201a8"
             ],
             [
              0.3333333333333333,
              "#9c179e"
             ],
             [
              0.4444444444444444,
              "#bd3786"
             ],
             [
              0.5555555555555556,
              "#d8576b"
             ],
             [
              0.6666666666666666,
              "#ed7953"
             ],
             [
              0.7777777777777778,
              "#fb9f3a"
             ],
             [
              0.8888888888888888,
              "#fdca26"
             ],
             [
              1,
              "#f0f921"
             ]
            ],
            "type": "histogram2d"
           }
          ],
          "histogram2dcontour": [
           {
            "colorbar": {
             "outlinewidth": 0,
             "ticks": ""
            },
            "colorscale": [
             [
              0,
              "#0d0887"
             ],
             [
              0.1111111111111111,
              "#46039f"
             ],
             [
              0.2222222222222222,
              "#7201a8"
             ],
             [
              0.3333333333333333,
              "#9c179e"
             ],
             [
              0.4444444444444444,
              "#bd3786"
             ],
             [
              0.5555555555555556,
              "#d8576b"
             ],
             [
              0.6666666666666666,
              "#ed7953"
             ],
             [
              0.7777777777777778,
              "#fb9f3a"
             ],
             [
              0.8888888888888888,
              "#fdca26"
             ],
             [
              1,
              "#f0f921"
             ]
            ],
            "type": "histogram2dcontour"
           }
          ],
          "mesh3d": [
           {
            "colorbar": {
             "outlinewidth": 0,
             "ticks": ""
            },
            "type": "mesh3d"
           }
          ],
          "parcoords": [
           {
            "line": {
             "colorbar": {
              "outlinewidth": 0,
              "ticks": ""
             }
            },
            "type": "parcoords"
           }
          ],
          "pie": [
           {
            "automargin": true,
            "type": "pie"
           }
          ],
          "scatter": [
           {
            "fillpattern": {
             "fillmode": "overlay",
             "size": 10,
             "solidity": 0.2
            },
            "type": "scatter"
           }
          ],
          "scatter3d": [
           {
            "line": {
             "colorbar": {
              "outlinewidth": 0,
              "ticks": ""
             }
            },
            "marker": {
             "colorbar": {
              "outlinewidth": 0,
              "ticks": ""
             }
            },
            "type": "scatter3d"
           }
          ],
          "scattercarpet": [
           {
            "marker": {
             "colorbar": {
              "outlinewidth": 0,
              "ticks": ""
             }
            },
            "type": "scattercarpet"
           }
          ],
          "scattergeo": [
           {
            "marker": {
             "colorbar": {
              "outlinewidth": 0,
              "ticks": ""
             }
            },
            "type": "scattergeo"
           }
          ],
          "scattergl": [
           {
            "marker": {
             "colorbar": {
              "outlinewidth": 0,
              "ticks": ""
             }
            },
            "type": "scattergl"
           }
          ],
          "scattermap": [
           {
            "marker": {
             "colorbar": {
              "outlinewidth": 0,
              "ticks": ""
             }
            },
            "type": "scattermap"
           }
          ],
          "scattermapbox": [
           {
            "marker": {
             "colorbar": {
              "outlinewidth": 0,
              "ticks": ""
             }
            },
            "type": "scattermapbox"
           }
          ],
          "scatterpolar": [
           {
            "marker": {
             "colorbar": {
              "outlinewidth": 0,
              "ticks": ""
             }
            },
            "type": "scatterpolar"
           }
          ],
          "scatterpolargl": [
           {
            "marker": {
             "colorbar": {
              "outlinewidth": 0,
              "ticks": ""
             }
            },
            "type": "scatterpolargl"
           }
          ],
          "scatterternary": [
           {
            "marker": {
             "colorbar": {
              "outlinewidth": 0,
              "ticks": ""
             }
            },
            "type": "scatterternary"
           }
          ],
          "surface": [
           {
            "colorbar": {
             "outlinewidth": 0,
             "ticks": ""
            },
            "colorscale": [
             [
              0,
              "#0d0887"
             ],
             [
              0.1111111111111111,
              "#46039f"
             ],
             [
              0.2222222222222222,
              "#7201a8"
             ],
             [
              0.3333333333333333,
              "#9c179e"
             ],
             [
              0.4444444444444444,
              "#bd3786"
             ],
             [
              0.5555555555555556,
              "#d8576b"
             ],
             [
              0.6666666666666666,
              "#ed7953"
             ],
             [
              0.7777777777777778,
              "#fb9f3a"
             ],
             [
              0.8888888888888888,
              "#fdca26"
             ],
             [
              1,
              "#f0f921"
             ]
            ],
            "type": "surface"
           }
          ],
          "table": [
           {
            "cells": {
             "fill": {
              "color": "#EBF0F8"
             },
             "line": {
              "color": "white"
             }
            },
            "header": {
             "fill": {
              "color": "#C8D4E3"
             },
             "line": {
              "color": "white"
             }
            },
            "type": "table"
           }
          ]
         },
         "layout": {
          "annotationdefaults": {
           "arrowcolor": "#2a3f5f",
           "arrowhead": 0,
           "arrowwidth": 1
          },
          "autotypenumbers": "strict",
          "coloraxis": {
           "colorbar": {
            "outlinewidth": 0,
            "ticks": ""
           }
          },
          "colorscale": {
           "diverging": [
            [
             0,
             "#8e0152"
            ],
            [
             0.1,
             "#c51b7d"
            ],
            [
             0.2,
             "#de77ae"
            ],
            [
             0.3,
             "#f1b6da"
            ],
            [
             0.4,
             "#fde0ef"
            ],
            [
             0.5,
             "#f7f7f7"
            ],
            [
             0.6,
             "#e6f5d0"
            ],
            [
             0.7,
             "#b8e186"
            ],
            [
             0.8,
             "#7fbc41"
            ],
            [
             0.9,
             "#4d9221"
            ],
            [
             1,
             "#276419"
            ]
           ],
           "sequential": [
            [
             0,
             "#0d0887"
            ],
            [
             0.1111111111111111,
             "#46039f"
            ],
            [
             0.2222222222222222,
             "#7201a8"
            ],
            [
             0.3333333333333333,
             "#9c179e"
            ],
            [
             0.4444444444444444,
             "#bd3786"
            ],
            [
             0.5555555555555556,
             "#d8576b"
            ],
            [
             0.6666666666666666,
             "#ed7953"
            ],
            [
             0.7777777777777778,
             "#fb9f3a"
            ],
            [
             0.8888888888888888,
             "#fdca26"
            ],
            [
             1,
             "#f0f921"
            ]
           ],
           "sequentialminus": [
            [
             0,
             "#0d0887"
            ],
            [
             0.1111111111111111,
             "#46039f"
            ],
            [
             0.2222222222222222,
             "#7201a8"
            ],
            [
             0.3333333333333333,
             "#9c179e"
            ],
            [
             0.4444444444444444,
             "#bd3786"
            ],
            [
             0.5555555555555556,
             "#d8576b"
            ],
            [
             0.6666666666666666,
             "#ed7953"
            ],
            [
             0.7777777777777778,
             "#fb9f3a"
            ],
            [
             0.8888888888888888,
             "#fdca26"
            ],
            [
             1,
             "#f0f921"
            ]
           ]
          },
          "colorway": [
           "#636efa",
           "#EF553B",
           "#00cc96",
           "#ab63fa",
           "#FFA15A",
           "#19d3f3",
           "#FF6692",
           "#B6E880",
           "#FF97FF",
           "#FECB52"
          ],
          "font": {
           "color": "#2a3f5f"
          },
          "geo": {
           "bgcolor": "white",
           "lakecolor": "white",
           "landcolor": "#E5ECF6",
           "showlakes": true,
           "showland": true,
           "subunitcolor": "white"
          },
          "hoverlabel": {
           "align": "left"
          },
          "hovermode": "closest",
          "mapbox": {
           "style": "light"
          },
          "paper_bgcolor": "white",
          "plot_bgcolor": "#E5ECF6",
          "polar": {
           "angularaxis": {
            "gridcolor": "white",
            "linecolor": "white",
            "ticks": ""
           },
           "bgcolor": "#E5ECF6",
           "radialaxis": {
            "gridcolor": "white",
            "linecolor": "white",
            "ticks": ""
           }
          },
          "scene": {
           "xaxis": {
            "backgroundcolor": "#E5ECF6",
            "gridcolor": "white",
            "gridwidth": 2,
            "linecolor": "white",
            "showbackground": true,
            "ticks": "",
            "zerolinecolor": "white"
           },
           "yaxis": {
            "backgroundcolor": "#E5ECF6",
            "gridcolor": "white",
            "gridwidth": 2,
            "linecolor": "white",
            "showbackground": true,
            "ticks": "",
            "zerolinecolor": "white"
           },
           "zaxis": {
            "backgroundcolor": "#E5ECF6",
            "gridcolor": "white",
            "gridwidth": 2,
            "linecolor": "white",
            "showbackground": true,
            "ticks": "",
            "zerolinecolor": "white"
           }
          },
          "shapedefaults": {
           "line": {
            "color": "#2a3f5f"
           }
          },
          "ternary": {
           "aaxis": {
            "gridcolor": "white",
            "linecolor": "white",
            "ticks": ""
           },
           "baxis": {
            "gridcolor": "white",
            "linecolor": "white",
            "ticks": ""
           },
           "bgcolor": "#E5ECF6",
           "caxis": {
            "gridcolor": "white",
            "linecolor": "white",
            "ticks": ""
           }
          },
          "title": {
           "x": 0.05
          },
          "xaxis": {
           "automargin": true,
           "gridcolor": "white",
           "linecolor": "white",
           "ticks": "",
           "title": {
            "standoff": 15
           },
           "zerolinecolor": "white",
           "zerolinewidth": 2
          },
          "yaxis": {
           "automargin": true,
           "gridcolor": "white",
           "linecolor": "white",
           "ticks": "",
           "title": {
            "standoff": 15
           },
           "zerolinecolor": "white",
           "zerolinewidth": 2
          }
         }
        },
        "title": {
         "text": "Matrices de confusion - Train et Test"
        },
        "width": 1000,
        "xaxis": {
         "anchor": "y",
         "domain": [
          0,
          0.4
         ]
        },
        "xaxis2": {
         "anchor": "y2",
         "domain": [
          0.6000000000000001,
          1
         ]
        },
        "yaxis": {
         "anchor": "x",
         "domain": [
          0,
          1
         ]
        },
        "yaxis2": {
         "anchor": "x2",
         "domain": [
          0,
          1
         ]
        }
       }
      }
     },
     "metadata": {},
     "output_type": "display_data"
    },
    {
     "data": {
      "application/vnd.plotly.v1+json": {
       "config": {
        "plotlyServerURL": "https://plot.ly"
       },
       "data": [
        {
         "line": {
          "color": "blue"
         },
         "mode": "lines",
         "name": "Train ROC (AUC=1.00)",
         "type": "scatter",
         "x": {
          "bdata": "AAAAAAAAAAAAAAAAAAAAAAAAAAAAAAAA+AB8AD4Abz+bgE3AJmCDPwAAAAAAAPA/",
          "dtype": "f8"
         },
         "y": {
          "bdata": "AAAAAAAAAAAF3n5I4O3vPwAAAAAAAPA/AAAAAAAA8D8AAAAAAADwPwAAAAAAAPA/",
          "dtype": "f8"
         }
        },
        {
         "line": {
          "color": "red"
         },
         "mode": "lines",
         "name": "Test ROC (AUC=1.00)",
         "type": "scatter",
         "x": {
          "bdata": "AAAAAAAAAAAAAAAAAAAAAAAAAAAAAAAAcxrceZE6bj8AAAAAAADwPw==",
          "dtype": "f8"
         },
         "y": {
          "bdata": "AAAAAAAAAADbN6x9w9rvPwAAAAAAAPA/AAAAAAAA8D8AAAAAAADwPw==",
          "dtype": "f8"
         }
        },
        {
         "line": {
          "color": "gray",
          "dash": "dash"
         },
         "mode": "lines",
         "name": "Random",
         "type": "scatter",
         "x": [
          0,
          1
         ],
         "y": [
          0,
          1
         ]
        }
       ],
       "layout": {
        "template": {
         "data": {
          "bar": [
           {
            "error_x": {
             "color": "#2a3f5f"
            },
            "error_y": {
             "color": "#2a3f5f"
            },
            "marker": {
             "line": {
              "color": "#E5ECF6",
              "width": 0.5
             },
             "pattern": {
              "fillmode": "overlay",
              "size": 10,
              "solidity": 0.2
             }
            },
            "type": "bar"
           }
          ],
          "barpolar": [
           {
            "marker": {
             "line": {
              "color": "#E5ECF6",
              "width": 0.5
             },
             "pattern": {
              "fillmode": "overlay",
              "size": 10,
              "solidity": 0.2
             }
            },
            "type": "barpolar"
           }
          ],
          "carpet": [
           {
            "aaxis": {
             "endlinecolor": "#2a3f5f",
             "gridcolor": "white",
             "linecolor": "white",
             "minorgridcolor": "white",
             "startlinecolor": "#2a3f5f"
            },
            "baxis": {
             "endlinecolor": "#2a3f5f",
             "gridcolor": "white",
             "linecolor": "white",
             "minorgridcolor": "white",
             "startlinecolor": "#2a3f5f"
            },
            "type": "carpet"
           }
          ],
          "choropleth": [
           {
            "colorbar": {
             "outlinewidth": 0,
             "ticks": ""
            },
            "type": "choropleth"
           }
          ],
          "contour": [
           {
            "colorbar": {
             "outlinewidth": 0,
             "ticks": ""
            },
            "colorscale": [
             [
              0,
              "#0d0887"
             ],
             [
              0.1111111111111111,
              "#46039f"
             ],
             [
              0.2222222222222222,
              "#7201a8"
             ],
             [
              0.3333333333333333,
              "#9c179e"
             ],
             [
              0.4444444444444444,
              "#bd3786"
             ],
             [
              0.5555555555555556,
              "#d8576b"
             ],
             [
              0.6666666666666666,
              "#ed7953"
             ],
             [
              0.7777777777777778,
              "#fb9f3a"
             ],
             [
              0.8888888888888888,
              "#fdca26"
             ],
             [
              1,
              "#f0f921"
             ]
            ],
            "type": "contour"
           }
          ],
          "contourcarpet": [
           {
            "colorbar": {
             "outlinewidth": 0,
             "ticks": ""
            },
            "type": "contourcarpet"
           }
          ],
          "heatmap": [
           {
            "colorbar": {
             "outlinewidth": 0,
             "ticks": ""
            },
            "colorscale": [
             [
              0,
              "#0d0887"
             ],
             [
              0.1111111111111111,
              "#46039f"
             ],
             [
              0.2222222222222222,
              "#7201a8"
             ],
             [
              0.3333333333333333,
              "#9c179e"
             ],
             [
              0.4444444444444444,
              "#bd3786"
             ],
             [
              0.5555555555555556,
              "#d8576b"
             ],
             [
              0.6666666666666666,
              "#ed7953"
             ],
             [
              0.7777777777777778,
              "#fb9f3a"
             ],
             [
              0.8888888888888888,
              "#fdca26"
             ],
             [
              1,
              "#f0f921"
             ]
            ],
            "type": "heatmap"
           }
          ],
          "histogram": [
           {
            "marker": {
             "pattern": {
              "fillmode": "overlay",
              "size": 10,
              "solidity": 0.2
             }
            },
            "type": "histogram"
           }
          ],
          "histogram2d": [
           {
            "colorbar": {
             "outlinewidth": 0,
             "ticks": ""
            },
            "colorscale": [
             [
              0,
              "#0d0887"
             ],
             [
              0.1111111111111111,
              "#46039f"
             ],
             [
              0.2222222222222222,
              "#7201a8"
             ],
             [
              0.3333333333333333,
              "#9c179e"
             ],
             [
              0.4444444444444444,
              "#bd3786"
             ],
             [
              0.5555555555555556,
              "#d8576b"
             ],
             [
              0.6666666666666666,
              "#ed7953"
             ],
             [
              0.7777777777777778,
              "#fb9f3a"
             ],
             [
              0.8888888888888888,
              "#fdca26"
             ],
             [
              1,
              "#f0f921"
             ]
            ],
            "type": "histogram2d"
           }
          ],
          "histogram2dcontour": [
           {
            "colorbar": {
             "outlinewidth": 0,
             "ticks": ""
            },
            "colorscale": [
             [
              0,
              "#0d0887"
             ],
             [
              0.1111111111111111,
              "#46039f"
             ],
             [
              0.2222222222222222,
              "#7201a8"
             ],
             [
              0.3333333333333333,
              "#9c179e"
             ],
             [
              0.4444444444444444,
              "#bd3786"
             ],
             [
              0.5555555555555556,
              "#d8576b"
             ],
             [
              0.6666666666666666,
              "#ed7953"
             ],
             [
              0.7777777777777778,
              "#fb9f3a"
             ],
             [
              0.8888888888888888,
              "#fdca26"
             ],
             [
              1,
              "#f0f921"
             ]
            ],
            "type": "histogram2dcontour"
           }
          ],
          "mesh3d": [
           {
            "colorbar": {
             "outlinewidth": 0,
             "ticks": ""
            },
            "type": "mesh3d"
           }
          ],
          "parcoords": [
           {
            "line": {
             "colorbar": {
              "outlinewidth": 0,
              "ticks": ""
             }
            },
            "type": "parcoords"
           }
          ],
          "pie": [
           {
            "automargin": true,
            "type": "pie"
           }
          ],
          "scatter": [
           {
            "fillpattern": {
             "fillmode": "overlay",
             "size": 10,
             "solidity": 0.2
            },
            "type": "scatter"
           }
          ],
          "scatter3d": [
           {
            "line": {
             "colorbar": {
              "outlinewidth": 0,
              "ticks": ""
             }
            },
            "marker": {
             "colorbar": {
              "outlinewidth": 0,
              "ticks": ""
             }
            },
            "type": "scatter3d"
           }
          ],
          "scattercarpet": [
           {
            "marker": {
             "colorbar": {
              "outlinewidth": 0,
              "ticks": ""
             }
            },
            "type": "scattercarpet"
           }
          ],
          "scattergeo": [
           {
            "marker": {
             "colorbar": {
              "outlinewidth": 0,
              "ticks": ""
             }
            },
            "type": "scattergeo"
           }
          ],
          "scattergl": [
           {
            "marker": {
             "colorbar": {
              "outlinewidth": 0,
              "ticks": ""
             }
            },
            "type": "scattergl"
           }
          ],
          "scattermap": [
           {
            "marker": {
             "colorbar": {
              "outlinewidth": 0,
              "ticks": ""
             }
            },
            "type": "scattermap"
           }
          ],
          "scattermapbox": [
           {
            "marker": {
             "colorbar": {
              "outlinewidth": 0,
              "ticks": ""
             }
            },
            "type": "scattermapbox"
           }
          ],
          "scatterpolar": [
           {
            "marker": {
             "colorbar": {
              "outlinewidth": 0,
              "ticks": ""
             }
            },
            "type": "scatterpolar"
           }
          ],
          "scatterpolargl": [
           {
            "marker": {
             "colorbar": {
              "outlinewidth": 0,
              "ticks": ""
             }
            },
            "type": "scatterpolargl"
           }
          ],
          "scatterternary": [
           {
            "marker": {
             "colorbar": {
              "outlinewidth": 0,
              "ticks": ""
             }
            },
            "type": "scatterternary"
           }
          ],
          "surface": [
           {
            "colorbar": {
             "outlinewidth": 0,
             "ticks": ""
            },
            "colorscale": [
             [
              0,
              "#0d0887"
             ],
             [
              0.1111111111111111,
              "#46039f"
             ],
             [
              0.2222222222222222,
              "#7201a8"
             ],
             [
              0.3333333333333333,
              "#9c179e"
             ],
             [
              0.4444444444444444,
              "#bd3786"
             ],
             [
              0.5555555555555556,
              "#d8576b"
             ],
             [
              0.6666666666666666,
              "#ed7953"
             ],
             [
              0.7777777777777778,
              "#fb9f3a"
             ],
             [
              0.8888888888888888,
              "#fdca26"
             ],
             [
              1,
              "#f0f921"
             ]
            ],
            "type": "surface"
           }
          ],
          "table": [
           {
            "cells": {
             "fill": {
              "color": "#EBF0F8"
             },
             "line": {
              "color": "white"
             }
            },
            "header": {
             "fill": {
              "color": "#C8D4E3"
             },
             "line": {
              "color": "white"
             }
            },
            "type": "table"
           }
          ]
         },
         "layout": {
          "annotationdefaults": {
           "arrowcolor": "#2a3f5f",
           "arrowhead": 0,
           "arrowwidth": 1
          },
          "autotypenumbers": "strict",
          "coloraxis": {
           "colorbar": {
            "outlinewidth": 0,
            "ticks": ""
           }
          },
          "colorscale": {
           "diverging": [
            [
             0,
             "#8e0152"
            ],
            [
             0.1,
             "#c51b7d"
            ],
            [
             0.2,
             "#de77ae"
            ],
            [
             0.3,
             "#f1b6da"
            ],
            [
             0.4,
             "#fde0ef"
            ],
            [
             0.5,
             "#f7f7f7"
            ],
            [
             0.6,
             "#e6f5d0"
            ],
            [
             0.7,
             "#b8e186"
            ],
            [
             0.8,
             "#7fbc41"
            ],
            [
             0.9,
             "#4d9221"
            ],
            [
             1,
             "#276419"
            ]
           ],
           "sequential": [
            [
             0,
             "#0d0887"
            ],
            [
             0.1111111111111111,
             "#46039f"
            ],
            [
             0.2222222222222222,
             "#7201a8"
            ],
            [
             0.3333333333333333,
             "#9c179e"
            ],
            [
             0.4444444444444444,
             "#bd3786"
            ],
            [
             0.5555555555555556,
             "#d8576b"
            ],
            [
             0.6666666666666666,
             "#ed7953"
            ],
            [
             0.7777777777777778,
             "#fb9f3a"
            ],
            [
             0.8888888888888888,
             "#fdca26"
            ],
            [
             1,
             "#f0f921"
            ]
           ],
           "sequentialminus": [
            [
             0,
             "#0d0887"
            ],
            [
             0.1111111111111111,
             "#46039f"
            ],
            [
             0.2222222222222222,
             "#7201a8"
            ],
            [
             0.3333333333333333,
             "#9c179e"
            ],
            [
             0.4444444444444444,
             "#bd3786"
            ],
            [
             0.5555555555555556,
             "#d8576b"
            ],
            [
             0.6666666666666666,
             "#ed7953"
            ],
            [
             0.7777777777777778,
             "#fb9f3a"
            ],
            [
             0.8888888888888888,
             "#fdca26"
            ],
            [
             1,
             "#f0f921"
            ]
           ]
          },
          "colorway": [
           "#636efa",
           "#EF553B",
           "#00cc96",
           "#ab63fa",
           "#FFA15A",
           "#19d3f3",
           "#FF6692",
           "#B6E880",
           "#FF97FF",
           "#FECB52"
          ],
          "font": {
           "color": "#2a3f5f"
          },
          "geo": {
           "bgcolor": "white",
           "lakecolor": "white",
           "landcolor": "#E5ECF6",
           "showlakes": true,
           "showland": true,
           "subunitcolor": "white"
          },
          "hoverlabel": {
           "align": "left"
          },
          "hovermode": "closest",
          "mapbox": {
           "style": "light"
          },
          "paper_bgcolor": "white",
          "plot_bgcolor": "#E5ECF6",
          "polar": {
           "angularaxis": {
            "gridcolor": "white",
            "linecolor": "white",
            "ticks": ""
           },
           "bgcolor": "#E5ECF6",
           "radialaxis": {
            "gridcolor": "white",
            "linecolor": "white",
            "ticks": ""
           }
          },
          "scene": {
           "xaxis": {
            "backgroundcolor": "#E5ECF6",
            "gridcolor": "white",
            "gridwidth": 2,
            "linecolor": "white",
            "showbackground": true,
            "ticks": "",
            "zerolinecolor": "white"
           },
           "yaxis": {
            "backgroundcolor": "#E5ECF6",
            "gridcolor": "white",
            "gridwidth": 2,
            "linecolor": "white",
            "showbackground": true,
            "ticks": "",
            "zerolinecolor": "white"
           },
           "zaxis": {
            "backgroundcolor": "#E5ECF6",
            "gridcolor": "white",
            "gridwidth": 2,
            "linecolor": "white",
            "showbackground": true,
            "ticks": "",
            "zerolinecolor": "white"
           }
          },
          "shapedefaults": {
           "line": {
            "color": "#2a3f5f"
           }
          },
          "ternary": {
           "aaxis": {
            "gridcolor": "white",
            "linecolor": "white",
            "ticks": ""
           },
           "baxis": {
            "gridcolor": "white",
            "linecolor": "white",
            "ticks": ""
           },
           "bgcolor": "#E5ECF6",
           "caxis": {
            "gridcolor": "white",
            "linecolor": "white",
            "ticks": ""
           }
          },
          "title": {
           "x": 0.05
          },
          "xaxis": {
           "automargin": true,
           "gridcolor": "white",
           "linecolor": "white",
           "ticks": "",
           "title": {
            "standoff": 15
           },
           "zerolinecolor": "white",
           "zerolinewidth": 2
          },
          "yaxis": {
           "automargin": true,
           "gridcolor": "white",
           "linecolor": "white",
           "ticks": "",
           "title": {
            "standoff": 15
           },
           "zerolinecolor": "white",
           "zerolinewidth": 2
          }
         }
        },
        "title": {
         "text": "Courbe ROC"
        },
        "xaxis": {
         "title": {
          "text": "Taux de faux positifs (FPR)"
         }
        },
        "yaxis": {
         "title": {
          "text": "Taux de vrais positifs (TPR)"
         }
        }
       }
      }
     },
     "metadata": {},
     "output_type": "display_data"
    },
    {
     "name": "stdout",
     "output_type": "stream",
     "text": [
      "\n",
      "=== Rapport de classification (Train) ===\n",
      "              precision    recall  f1-score   support\n",
      "\n",
      "           0       1.00      1.00      1.00      1057\n",
      "           1       1.00      1.00      1.00       904\n",
      "\n",
      "    accuracy                           1.00      1961\n",
      "   macro avg       1.00      1.00      1.00      1961\n",
      "weighted avg       1.00      1.00      1.00      1961\n",
      "\n",
      "\n",
      "=== Rapport de classification (Test) ===\n",
      "              precision    recall  f1-score   support\n",
      "\n",
      "           0       1.00      1.00      1.00       271\n",
      "           1       1.00      1.00      1.00       220\n",
      "\n",
      "    accuracy                           1.00       491\n",
      "   macro avg       1.00      1.00      1.00       491\n",
      "weighted avg       1.00      1.00      1.00       491\n",
      "\n"
     ]
    }
   ],
   "source": [
    "# Évaluer le modèle\n",
    "display(Markdown(\"### Évaluation du modèle\"))\n",
    "evaluate_model(pipeline, X_train, y_train, X_test, y_test)"
   ]
  },
  {
   "cell_type": "code",
   "execution_count": 166,
   "metadata": {},
   "outputs": [
    {
     "data": {
      "text/markdown": [
       "### Importance des caractéristiques :"
      ],
      "text/plain": [
       "<IPython.core.display.Markdown object>"
      ]
     },
     "metadata": {},
     "output_type": "display_data"
    },
    {
     "data": {
      "text/html": [
       "<div>\n",
       "<style scoped>\n",
       "    .dataframe tbody tr th:only-of-type {\n",
       "        vertical-align: middle;\n",
       "    }\n",
       "\n",
       "    .dataframe tbody tr th {\n",
       "        vertical-align: top;\n",
       "    }\n",
       "\n",
       "    .dataframe thead th {\n",
       "        text-align: right;\n",
       "    }\n",
       "</style>\n",
       "<table border=\"1\" class=\"dataframe\">\n",
       "  <thead>\n",
       "    <tr style=\"text-align: right;\">\n",
       "      <th></th>\n",
       "      <th>Feature</th>\n",
       "      <th>Importance</th>\n",
       "    </tr>\n",
       "  </thead>\n",
       "  <tbody>\n",
       "    <tr>\n",
       "      <th>0</th>\n",
       "      <td>Mean</td>\n",
       "      <td>1.0</td>\n",
       "    </tr>\n",
       "  </tbody>\n",
       "</table>\n",
       "</div>"
      ],
      "text/plain": [
       "  Feature  Importance\n",
       "0    Mean         1.0"
      ]
     },
     "metadata": {},
     "output_type": "display_data"
    }
   ],
   "source": [
    "# Extraire l'importance des features\n",
    "model = pipeline.named_steps['classifier']\n",
    "feature_importance = pd.DataFrame({\n",
    "    'Feature': X_train.columns,\n",
    "    'Importance': model.feature_importances_\n",
    "}).sort_values('Importance', ascending=False)\n",
    "\n",
    "display(Markdown(\"### Importance des caractéristiques :\"))\n",
    "display(feature_importance)"
   ]
  }
 ],
 "metadata": {
  "kernelspec": {
   "display_name": "mon_env",
   "language": "python",
   "name": "python3"
  },
  "language_info": {
   "codemirror_mode": {
    "name": "ipython",
    "version": 3
   },
   "file_extension": ".py",
   "mimetype": "text/x-python",
   "name": "python",
   "nbconvert_exporter": "python",
   "pygments_lexer": "ipython3",
   "version": "3.11.2"
  }
 },
 "nbformat": 4,
 "nbformat_minor": 2
}
